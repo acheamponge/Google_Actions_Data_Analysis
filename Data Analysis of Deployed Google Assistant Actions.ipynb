{
 "cells": [
  {
   "cell_type": "markdown",
   "metadata": {},
   "source": [
    "<h1 ><center> Data Analysis of Deployed Google Assistant Actions</center></h1>\n",
    "<h1 style=\"color:Tomato;\"><center>#Hey Google</center></h1>"
   ]
  },
  {
   "cell_type": "markdown",
   "metadata": {},
   "source": [
    "<h2><center>July - August 2019</center></h2>"
   ]
  },
  {
   "cell_type": "markdown",
   "metadata": {},
   "source": [
    "<h2 style=\"color:MediumSeaGreen;\"><center>Emmanuel Acheampong</center></h2>"
   ]
  },
  {
   "cell_type": "markdown",
   "metadata": {},
   "source": [
    "![Google Actions](1.gif)"
   ]
  },
  {
   "cell_type": "markdown",
   "metadata": {},
   "source": [
    "### After exploring cloud technology for a while, I decided to dip my toes into building actions for the Google Assistant and Below is an analysis of the 4 actions I deployed using DialogFlow, Firebase Storage and a host of Google Cloud Platform products.\n",
    "<br>\n",
    "\n",
    "I decided to use my Data Science skills to gain insights into the use of my actions and generate more value for my users."
   ]
  },
  {
   "cell_type": "markdown",
   "metadata": {},
   "source": [
    "<br>\n",
    "<br>\n",
    "<br>\n",
    "<br>\n",
    "<br>\n",
    "<font size=\"+3\"style=\"color:Red;\"><center>ACTIONS</center></font>"
   ]
  },
  {
   "cell_type": "markdown",
   "metadata": {},
   "source": [
    "<center><ul>\n",
    "    <h2>Anansi Stories </h2>\n",
    "    <h2>African Proverbs </h2>\n",
    "    <h2>Akan Translate </h2>\n",
    "    <h2>Ghana Trivia </h2>\n",
    "</ul></center>"
   ]
  },
  {
   "cell_type": "markdown",
   "metadata": {},
   "source": [
    "<br>\n",
    "<br>\n",
    "<br>"
   ]
  },
  {
   "cell_type": "markdown",
   "metadata": {},
   "source": [
    "<ul><li><font size=\"+2\" style=\"color:Green;\">Anansi Stories</font></li></ul>"
   ]
  },
  {
   "cell_type": "markdown",
   "metadata": {},
   "source": [
    "<img src=\"img/an.jpg\" style=\"width:300px;height:400px;\" align=\"left\">"
   ]
  },
  {
   "cell_type": "markdown",
   "metadata": {},
   "source": [
    "<h1 style=\"color:Green;\">Data Collection</h1>"
   ]
  },
  {
   "cell_type": "markdown",
   "metadata": {},
   "source": [
    "The great thing about the Google Actions Console is that it comes with some data analytics integrated with it. The console gives insight into: \n",
    "\n",
    "<ul>\n",
    "    <li> Active Users </li>\n",
    "    <li> Messages </li>\n",
    "    <li> Conversations </li>\n",
    "    <li> Average conversation length </li>\n",
    "    <li> Abort rate </li>\n",
    "</ul>\n",
    "\n",
    "<br>\n",
    "Even though all these insights are beneficial, I decided to focus mainly on \"Messages\", \"Conversations\" and \"Active Users\". This is because I know that these are the most relevant to improving the user experience of my users.\n",
    "\n"
   ]
  },
  {
   "cell_type": "markdown",
   "metadata": {},
   "source": [
    "<h1 style=\"color:Green;\">Conversations</h1>"
   ]
  },
  {
   "cell_type": "code",
   "execution_count": 68,
   "metadata": {},
   "outputs": [
    {
     "data": {
      "text/html": [
       "        <script type=\"text/javascript\">\n",
       "        window.PlotlyConfig = {MathJaxConfig: 'local'};\n",
       "        if (window.MathJax) {MathJax.Hub.Config({SVG: {font: \"STIX-Web\"}});}\n",
       "        if (typeof require !== 'undefined') {\n",
       "        require.undef(\"plotly\");\n",
       "        requirejs.config({\n",
       "            paths: {\n",
       "                'plotly': ['https://cdn.plot.ly/plotly-latest.min']\n",
       "            }\n",
       "        });\n",
       "        require(['plotly'], function(Plotly) {\n",
       "            window._Plotly = Plotly;\n",
       "        });\n",
       "        }\n",
       "        </script>\n",
       "        "
      ]
     },
     "metadata": {},
     "output_type": "display_data"
    }
   ],
   "source": [
    "# import modules\n",
    "import pandas as pd\n",
    "import numpy as np\n",
    "import plotly as py\n",
    "import plotly.graph_objs as go\n",
    "from plotly.offline import iplot\n",
    "py.offline.init_notebook_mode(connected=True) "
   ]
  },
  {
   "cell_type": "code",
   "execution_count": 59,
   "metadata": {},
   "outputs": [
    {
     "data": {
      "text/html": [
       "<div>\n",
       "<style scoped>\n",
       "    .dataframe tbody tr th:only-of-type {\n",
       "        vertical-align: middle;\n",
       "    }\n",
       "\n",
       "    .dataframe tbody tr th {\n",
       "        vertical-align: top;\n",
       "    }\n",
       "\n",
       "    .dataframe thead th {\n",
       "        text-align: right;\n",
       "    }\n",
       "</style>\n",
       "<table border=\"1\" class=\"dataframe\">\n",
       "  <thead>\n",
       "    <tr style=\"text-align: right;\">\n",
       "      <th></th>\n",
       "      <th>Date</th>\n",
       "      <th>Conversations</th>\n",
       "    </tr>\n",
       "  </thead>\n",
       "  <tbody>\n",
       "    <tr>\n",
       "      <th>0</th>\n",
       "      <td>12-Jul-19</td>\n",
       "      <td>6</td>\n",
       "    </tr>\n",
       "    <tr>\n",
       "      <th>1</th>\n",
       "      <td>13-Jul-19</td>\n",
       "      <td>26</td>\n",
       "    </tr>\n",
       "    <tr>\n",
       "      <th>2</th>\n",
       "      <td>14-Jul-19</td>\n",
       "      <td>41</td>\n",
       "    </tr>\n",
       "    <tr>\n",
       "      <th>3</th>\n",
       "      <td>15-Jul-19</td>\n",
       "      <td>84</td>\n",
       "    </tr>\n",
       "    <tr>\n",
       "      <th>4</th>\n",
       "      <td>16-Jul-19</td>\n",
       "      <td>44</td>\n",
       "    </tr>\n",
       "  </tbody>\n",
       "</table>\n",
       "</div>"
      ],
      "text/plain": [
       "        Date  Conversations\n",
       "0  12-Jul-19              6\n",
       "1  13-Jul-19             26\n",
       "2  14-Jul-19             41\n",
       "3  15-Jul-19             84\n",
       "4  16-Jul-19             44"
      ]
     },
     "execution_count": 59,
     "metadata": {},
     "output_type": "execute_result"
    }
   ],
   "source": [
    "# load conversations csv and read only part of the data\n",
    "anansi_conversations = pd.read_csv('data/an.csv')\n",
    "anansi_conversations.head()"
   ]
  },
  {
   "cell_type": "code",
   "execution_count": 60,
   "metadata": {},
   "outputs": [
    {
     "data": {
      "text/html": [
       "<div>\n",
       "<style scoped>\n",
       "    .dataframe tbody tr th:only-of-type {\n",
       "        vertical-align: middle;\n",
       "    }\n",
       "\n",
       "    .dataframe tbody tr th {\n",
       "        vertical-align: top;\n",
       "    }\n",
       "\n",
       "    .dataframe thead th {\n",
       "        text-align: right;\n",
       "    }\n",
       "</style>\n",
       "<table border=\"1\" class=\"dataframe\">\n",
       "  <thead>\n",
       "    <tr style=\"text-align: right;\">\n",
       "      <th></th>\n",
       "      <th>Date</th>\n",
       "      <th>Conversations</th>\n",
       "    </tr>\n",
       "  </thead>\n",
       "  <tbody>\n",
       "    <tr>\n",
       "      <th>0</th>\n",
       "      <td>8-Jul-19</td>\n",
       "      <td>8</td>\n",
       "    </tr>\n",
       "    <tr>\n",
       "      <th>1</th>\n",
       "      <td>9-Jul-19</td>\n",
       "      <td>42</td>\n",
       "    </tr>\n",
       "    <tr>\n",
       "      <th>2</th>\n",
       "      <td>10-Jul-19</td>\n",
       "      <td>133</td>\n",
       "    </tr>\n",
       "    <tr>\n",
       "      <th>3</th>\n",
       "      <td>11-Jul-19</td>\n",
       "      <td>30</td>\n",
       "    </tr>\n",
       "    <tr>\n",
       "      <th>4</th>\n",
       "      <td>12-Jul-19</td>\n",
       "      <td>6</td>\n",
       "    </tr>\n",
       "  </tbody>\n",
       "</table>\n",
       "</div>"
      ],
      "text/plain": [
       "        Date  Conversations\n",
       "0   8-Jul-19              8\n",
       "1   9-Jul-19             42\n",
       "2  10-Jul-19            133\n",
       "3  11-Jul-19             30\n",
       "4  12-Jul-19              6"
      ]
     },
     "execution_count": 60,
     "metadata": {},
     "output_type": "execute_result"
    }
   ],
   "source": [
    "# load the other conversations csv and read only part of the data\n",
    "anansi_conversations2 = pd.read_csv('data/an4.csv')\n",
    "anansi_conversations2.head()"
   ]
  },
  {
   "cell_type": "code",
   "execution_count": 138,
   "metadata": {},
   "outputs": [],
   "source": [
    "# merge the 2 csv and remove duplicate files\n",
    "anansi_convos = pd.concat([anansi_conversations2,anansi_conversations]).drop_duplicates(subset='Date', keep=\"last\")"
   ]
  },
  {
   "cell_type": "markdown",
   "metadata": {},
   "source": [
    "<br>\n",
    "<br>\n",
    "<br>\n",
    "<h1 ><center> Visualization </center></h1>"
   ]
  },
  {
   "cell_type": "code",
   "execution_count": 81,
   "metadata": {
    "scrolled": true
   },
   "outputs": [
    {
     "data": {
      "application/vnd.plotly.v1+json": {
       "config": {
        "plotlyServerURL": "https://plot.ly"
       },
       "data": [
        {
         "marker": {
          "color": "Red",
          "colorscale": "Viridis",
          "opacity": 0.6,
          "size": 10
         },
         "mode": "markers",
         "type": "scatter",
         "uid": "2bb5a543-9443-4576-a013-2d81c73dba4e",
         "x": [
          "8-Jul-19",
          "9-Jul-19",
          "10-Jul-19",
          "11-Jul-19",
          "12-Jul-19",
          "13-Jul-19",
          "14-Jul-19",
          "15-Jul-19",
          "16-Jul-19",
          "17-Jul-19",
          "18-Jul-19",
          "19-Jul-19",
          "20-Jul-19",
          "21-Jul-19",
          "22-Jul-19",
          "23-Jul-19",
          "24-Jul-19",
          "25-Jul-19",
          "26-Jul-19",
          "27-Jul-19",
          "28-Jul-19",
          "29-Jul-19",
          "30-Jul-19",
          "31-Jul-19",
          "1-Aug-19",
          "2-Aug-19",
          "3-Aug-19",
          "4-Aug-19",
          "5-Aug-19",
          "6-Aug-19",
          "7-Aug-19",
          "8-Aug-19",
          "9-Aug-19"
         ],
         "y": [
          8,
          42,
          133,
          30,
          6,
          26,
          41,
          84,
          44,
          83,
          89,
          101,
          55,
          49,
          124,
          36,
          53,
          17,
          12,
          15,
          5,
          9,
          4,
          7,
          7,
          14,
          5,
          11,
          5,
          4,
          4,
          3,
          13
         ]
        }
       ],
       "layout": {
        "title": {
         "text": ""
        },
        "xaxis": {
         "title": {
          "text": "Day"
         }
        },
        "yaxis": {
         "title": {
          "text": "Number of Conversations"
         }
        }
       }
      },
      "text/html": [
       "<div>\n",
       "        \n",
       "        \n",
       "            <div id=\"e81534f0-fc60-4812-a3f4-f372ffb71122\" class=\"plotly-graph-div\" style=\"height:525px; width:100%;\"></div>\n",
       "            <script type=\"text/javascript\">\n",
       "                require([\"plotly\"], function(Plotly) {\n",
       "                    window.PLOTLYENV=window.PLOTLYENV || {};\n",
       "                    window.PLOTLYENV.BASE_URL='https://plot.ly';\n",
       "                    \n",
       "                if (document.getElementById(\"e81534f0-fc60-4812-a3f4-f372ffb71122\")) {\n",
       "                    Plotly.newPlot(\n",
       "                        'e81534f0-fc60-4812-a3f4-f372ffb71122',\n",
       "                        [{\"marker\": {\"color\": \"Red\", \"colorscale\": \"Viridis\", \"opacity\": 0.6, \"size\": 10}, \"mode\": \"markers\", \"type\": \"scatter\", \"uid\": \"2bb5a543-9443-4576-a013-2d81c73dba4e\", \"x\": [\"8-Jul-19\", \"9-Jul-19\", \"10-Jul-19\", \"11-Jul-19\", \"12-Jul-19\", \"13-Jul-19\", \"14-Jul-19\", \"15-Jul-19\", \"16-Jul-19\", \"17-Jul-19\", \"18-Jul-19\", \"19-Jul-19\", \"20-Jul-19\", \"21-Jul-19\", \"22-Jul-19\", \"23-Jul-19\", \"24-Jul-19\", \"25-Jul-19\", \"26-Jul-19\", \"27-Jul-19\", \"28-Jul-19\", \"29-Jul-19\", \"30-Jul-19\", \"31-Jul-19\", \"1-Aug-19\", \"2-Aug-19\", \"3-Aug-19\", \"4-Aug-19\", \"5-Aug-19\", \"6-Aug-19\", \"7-Aug-19\", \"8-Aug-19\", \"9-Aug-19\"], \"y\": [8, 42, 133, 30, 6, 26, 41, 84, 44, 83, 89, 101, 55, 49, 124, 36, 53, 17, 12, 15, 5, 9, 4, 7, 7, 14, 5, 11, 5, 4, 4, 3, 13]}],\n",
       "                        {\"title\": {\"text\": \"\"}, \"xaxis\": {\"title\": {\"text\": \"Day\"}}, \"yaxis\": {\"title\": {\"text\": \"Number of Conversations\"}}},\n",
       "                        {\"plotlyServerURL\": \"https://plot.ly\", \"responsive\": true}\n",
       "                    ).then(function(){\n",
       "                            \n",
       "var gd = document.getElementById('e81534f0-fc60-4812-a3f4-f372ffb71122');\n",
       "var x = new MutationObserver(function (mutations, observer) {{\n",
       "        var display = window.getComputedStyle(gd).display;\n",
       "        if (!display || display === 'none') {{\n",
       "            console.log([gd, 'removed!']);\n",
       "            Plotly.purge(gd);\n",
       "            observer.disconnect();\n",
       "        }}\n",
       "}});\n",
       "\n",
       "// Listen for the removal of the full notebook cells\n",
       "var notebookContainer = gd.closest('#notebook-container');\n",
       "if (notebookContainer) {{\n",
       "    x.observe(notebookContainer, {childList: true});\n",
       "}}\n",
       "\n",
       "// Listen for the clearing of the current output cell\n",
       "var outputEl = gd.closest('.output');\n",
       "if (outputEl) {{\n",
       "    x.observe(outputEl, {childList: true});\n",
       "}}\n",
       "\n",
       "                        })\n",
       "                };\n",
       "                });\n",
       "            </script>\n",
       "        </div>"
      ]
     },
     "metadata": {},
     "output_type": "display_data"
    }
   ],
   "source": [
    "colors = np.random.rand(100)\n",
    "sz = np.random.rand(100)*30\n",
    "fig = go.Figure()\n",
    "fig.add_scatter(x = anansi_convos['Date'],\n",
    "                y = anansi_convos['Conversations'],\n",
    "                mode='markers',\n",
    "                marker={'size': 10,\n",
    "                        'color': 'Red',\n",
    "                        'opacity': 0.6,\n",
    "                        'colorscale': 'Viridis'\n",
    "                       });\n",
    "\n",
    "fig.layout.update(title='',\n",
    "                   xaxis_title='Day',\n",
    "                   yaxis_title='Number of Conversations')\n",
    "\n",
    "fig.show()"
   ]
  },
  {
   "cell_type": "code",
   "execution_count": 80,
   "metadata": {},
   "outputs": [
    {
     "data": {
      "application/vnd.plotly.v1+json": {
       "config": {
        "plotlyServerURL": "https://plot.ly"
       },
       "data": [
        {
         "connectgaps": true,
         "name": "<b>Number of Daily Conversations</b>",
         "type": "scatter",
         "uid": "9704cb5a-a6c1-4b39-8452-cf8fc65c3039",
         "x": [
          "8-Jul-19",
          "9-Jul-19",
          "10-Jul-19",
          "11-Jul-19",
          "12-Jul-19",
          "13-Jul-19",
          "14-Jul-19",
          "15-Jul-19",
          "16-Jul-19",
          "17-Jul-19",
          "18-Jul-19",
          "19-Jul-19",
          "20-Jul-19",
          "21-Jul-19",
          "22-Jul-19",
          "23-Jul-19",
          "24-Jul-19",
          "25-Jul-19",
          "26-Jul-19",
          "27-Jul-19",
          "28-Jul-19",
          "29-Jul-19",
          "30-Jul-19",
          "31-Jul-19",
          "1-Aug-19",
          "2-Aug-19",
          "3-Aug-19",
          "4-Aug-19",
          "5-Aug-19",
          "6-Aug-19",
          "7-Aug-19",
          "8-Aug-19",
          "9-Aug-19"
         ],
         "y": [
          8,
          42,
          133,
          30,
          6,
          26,
          41,
          84,
          44,
          83,
          89,
          101,
          55,
          49,
          124,
          36,
          53,
          17,
          12,
          15,
          5,
          9,
          4,
          7,
          7,
          14,
          5,
          11,
          5,
          4,
          4,
          3,
          13
         ]
        }
       ],
       "layout": {
        "title": {
         "text": ""
        },
        "xaxis": {
         "title": {
          "text": "Day"
         }
        },
        "yaxis": {
         "title": {
          "text": "Number of Conversations"
         }
        }
       }
      },
      "text/html": [
       "<div>\n",
       "        \n",
       "        \n",
       "            <div id=\"6708ae58-f44a-4f67-810e-0df85046160f\" class=\"plotly-graph-div\" style=\"height:525px; width:100%;\"></div>\n",
       "            <script type=\"text/javascript\">\n",
       "                require([\"plotly\"], function(Plotly) {\n",
       "                    window.PLOTLYENV=window.PLOTLYENV || {};\n",
       "                    window.PLOTLYENV.BASE_URL='https://plot.ly';\n",
       "                    \n",
       "                if (document.getElementById(\"6708ae58-f44a-4f67-810e-0df85046160f\")) {\n",
       "                    Plotly.newPlot(\n",
       "                        '6708ae58-f44a-4f67-810e-0df85046160f',\n",
       "                        [{\"connectgaps\": true, \"name\": \"<b>Number of Daily Conversations</b>\", \"type\": \"scatter\", \"uid\": \"9704cb5a-a6c1-4b39-8452-cf8fc65c3039\", \"x\": [\"8-Jul-19\", \"9-Jul-19\", \"10-Jul-19\", \"11-Jul-19\", \"12-Jul-19\", \"13-Jul-19\", \"14-Jul-19\", \"15-Jul-19\", \"16-Jul-19\", \"17-Jul-19\", \"18-Jul-19\", \"19-Jul-19\", \"20-Jul-19\", \"21-Jul-19\", \"22-Jul-19\", \"23-Jul-19\", \"24-Jul-19\", \"25-Jul-19\", \"26-Jul-19\", \"27-Jul-19\", \"28-Jul-19\", \"29-Jul-19\", \"30-Jul-19\", \"31-Jul-19\", \"1-Aug-19\", \"2-Aug-19\", \"3-Aug-19\", \"4-Aug-19\", \"5-Aug-19\", \"6-Aug-19\", \"7-Aug-19\", \"8-Aug-19\", \"9-Aug-19\"], \"y\": [8, 42, 133, 30, 6, 26, 41, 84, 44, 83, 89, 101, 55, 49, 124, 36, 53, 17, 12, 15, 5, 9, 4, 7, 7, 14, 5, 11, 5, 4, 4, 3, 13]}],\n",
       "                        {\"title\": {\"text\": \"\"}, \"xaxis\": {\"title\": {\"text\": \"Day\"}}, \"yaxis\": {\"title\": {\"text\": \"Number of Conversations\"}}},\n",
       "                        {\"plotlyServerURL\": \"https://plot.ly\", \"responsive\": true}\n",
       "                    ).then(function(){\n",
       "                            \n",
       "var gd = document.getElementById('6708ae58-f44a-4f67-810e-0df85046160f');\n",
       "var x = new MutationObserver(function (mutations, observer) {{\n",
       "        var display = window.getComputedStyle(gd).display;\n",
       "        if (!display || display === 'none') {{\n",
       "            console.log([gd, 'removed!']);\n",
       "            Plotly.purge(gd);\n",
       "            observer.disconnect();\n",
       "        }}\n",
       "}});\n",
       "\n",
       "// Listen for the removal of the full notebook cells\n",
       "var notebookContainer = gd.closest('#notebook-container');\n",
       "if (notebookContainer) {{\n",
       "    x.observe(notebookContainer, {childList: true});\n",
       "}}\n",
       "\n",
       "// Listen for the clearing of the current output cell\n",
       "var outputEl = gd.closest('.output');\n",
       "if (outputEl) {{\n",
       "    x.observe(outputEl, {childList: true});\n",
       "}}\n",
       "\n",
       "                        })\n",
       "                };\n",
       "                });\n",
       "            </script>\n",
       "        </div>"
      ]
     },
     "metadata": {},
     "output_type": "display_data"
    }
   ],
   "source": [
    "fig = go.Figure()\n",
    "\n",
    "fig.add_trace(go.Scatter(\n",
    "    x=anansi_convos['Date'],\n",
    "    y=anansi_convos['Conversations'],\n",
    "    name = '<b>Number of Daily Conversations</b>', # Style name/legend entry with html tags\n",
    "    connectgaps=True # override default to connect the gaps\n",
    "))\n",
    "\n",
    "fig.layout.update(title='',\n",
    "                   xaxis_title='Day',\n",
    "                   yaxis_title='Number of Conversations')\n",
    "\n",
    "fig.show()"
   ]
  },
  {
   "cell_type": "markdown",
   "metadata": {},
   "source": [
    "<br>\n",
    "<br>\n",
    "<br>\n",
    "<br>\n",
    "\n",
    "# Data Analysis"
   ]
  },
  {
   "cell_type": "code",
   "execution_count": 139,
   "metadata": {
    "scrolled": true
   },
   "outputs": [
    {
     "data": {
      "text/plain": [
       "sum     1139.000000\n",
       "min        3.000000\n",
       "max      133.000000\n",
       "mean      34.515152\n",
       "std       37.022899\n",
       "Name: Conversations, dtype: float64"
      ]
     },
     "execution_count": 139,
     "metadata": {},
     "output_type": "execute_result"
    }
   ],
   "source": [
    "anansi_convos['Conversations'].agg(['sum', 'min', 'max',\"mean\", 'std'])"
   ]
  },
  {
   "cell_type": "markdown",
   "metadata": {},
   "source": [
    "### The Number of Conversations had in One Month (from July 8th to August 9th): \n"
   ]
  },
  {
   "cell_type": "markdown",
   "metadata": {},
   "source": [
    "<font size=\"+3\"style=\"color:Red;\"><center>1139</center></font>"
   ]
  },
  {
   "cell_type": "markdown",
   "metadata": {},
   "source": [
    "<br>\n",
    "<br>"
   ]
  },
  {
   "cell_type": "markdown",
   "metadata": {},
   "source": [
    "### The Minimum Daily Conversations had in One Month (from July 8th to August 9th): "
   ]
  },
  {
   "cell_type": "markdown",
   "metadata": {},
   "source": [
    "<font size=\"+3\"style=\"color:Red;\"><center>3</center></font>"
   ]
  },
  {
   "cell_type": "markdown",
   "metadata": {},
   "source": [
    "<br>\n",
    "<br>"
   ]
  },
  {
   "cell_type": "markdown",
   "metadata": {},
   "source": [
    "### The Maximum Daily Conversations had in One Month (from July 8th to August 9th): "
   ]
  },
  {
   "cell_type": "markdown",
   "metadata": {},
   "source": [
    "<font size=\"+3\"style=\"color:Red;\"><center>133</center></font>"
   ]
  },
  {
   "cell_type": "markdown",
   "metadata": {},
   "source": [
    "<br>\n",
    "<br>"
   ]
  },
  {
   "cell_type": "markdown",
   "metadata": {},
   "source": [
    "### The Average Daily Conversations had in One Month (from July 8th to August 9th): "
   ]
  },
  {
   "cell_type": "markdown",
   "metadata": {},
   "source": [
    "<font size=\"+3\"style=\"color:Red;\"><center>34</center></font>"
   ]
  },
  {
   "cell_type": "markdown",
   "metadata": {},
   "source": [
    "<br>\n",
    "<br>"
   ]
  },
  {
   "cell_type": "markdown",
   "metadata": {},
   "source": [
    "### The Standard Deviation of Daily Conversations had in One Month (from July 8th to August 9th): "
   ]
  },
  {
   "cell_type": "markdown",
   "metadata": {},
   "source": [
    "<font size=\"+3\"style=\"color:Red;\"><center>37</center></font>"
   ]
  },
  {
   "cell_type": "markdown",
   "metadata": {},
   "source": [
    "<br>\n",
    "<br>\n",
    "<br>\n",
    "<br>\n",
    "<br>\n",
    "<br>"
   ]
  },
  {
   "cell_type": "markdown",
   "metadata": {},
   "source": [
    "<h1 style=\"color:Green;\">Messages</h1>"
   ]
  },
  {
   "cell_type": "code",
   "execution_count": 100,
   "metadata": {},
   "outputs": [
    {
     "data": {
      "text/html": [
       "<div>\n",
       "<style scoped>\n",
       "    .dataframe tbody tr th:only-of-type {\n",
       "        vertical-align: middle;\n",
       "    }\n",
       "\n",
       "    .dataframe tbody tr th {\n",
       "        vertical-align: top;\n",
       "    }\n",
       "\n",
       "    .dataframe thead th {\n",
       "        text-align: right;\n",
       "    }\n",
       "</style>\n",
       "<table border=\"1\" class=\"dataframe\">\n",
       "  <thead>\n",
       "    <tr style=\"text-align: right;\">\n",
       "      <th></th>\n",
       "      <th>Date</th>\n",
       "      <th>Messages</th>\n",
       "    </tr>\n",
       "  </thead>\n",
       "  <tbody>\n",
       "    <tr>\n",
       "      <th>0</th>\n",
       "      <td>8-Jul-19</td>\n",
       "      <td>8</td>\n",
       "    </tr>\n",
       "    <tr>\n",
       "      <th>1</th>\n",
       "      <td>9-Jul-19</td>\n",
       "      <td>42</td>\n",
       "    </tr>\n",
       "    <tr>\n",
       "      <th>2</th>\n",
       "      <td>10-Jul-19</td>\n",
       "      <td>133</td>\n",
       "    </tr>\n",
       "    <tr>\n",
       "      <th>3</th>\n",
       "      <td>11-Jul-19</td>\n",
       "      <td>30</td>\n",
       "    </tr>\n",
       "    <tr>\n",
       "      <th>4</th>\n",
       "      <td>12-Jul-19</td>\n",
       "      <td>6</td>\n",
       "    </tr>\n",
       "  </tbody>\n",
       "</table>\n",
       "</div>"
      ],
      "text/plain": [
       "        Date  Messages\n",
       "0   8-Jul-19         8\n",
       "1   9-Jul-19        42\n",
       "2  10-Jul-19       133\n",
       "3  11-Jul-19        30\n",
       "4  12-Jul-19         6"
      ]
     },
     "execution_count": 100,
     "metadata": {},
     "output_type": "execute_result"
    }
   ],
   "source": [
    "# load messages \n",
    "anansi_messages = pd.read_csv('data/an3.csv')\n",
    "anansi_messages.head()"
   ]
  },
  {
   "cell_type": "code",
   "execution_count": 101,
   "metadata": {},
   "outputs": [
    {
     "data": {
      "text/html": [
       "<div>\n",
       "<style scoped>\n",
       "    .dataframe tbody tr th:only-of-type {\n",
       "        vertical-align: middle;\n",
       "    }\n",
       "\n",
       "    .dataframe tbody tr th {\n",
       "        vertical-align: top;\n",
       "    }\n",
       "\n",
       "    .dataframe thead th {\n",
       "        text-align: right;\n",
       "    }\n",
       "</style>\n",
       "<table border=\"1\" class=\"dataframe\">\n",
       "  <thead>\n",
       "    <tr style=\"text-align: right;\">\n",
       "      <th></th>\n",
       "      <th>Date</th>\n",
       "      <th>Messages</th>\n",
       "    </tr>\n",
       "  </thead>\n",
       "  <tbody>\n",
       "    <tr>\n",
       "      <th>0</th>\n",
       "      <td>12-Jul-19</td>\n",
       "      <td>6</td>\n",
       "    </tr>\n",
       "    <tr>\n",
       "      <th>1</th>\n",
       "      <td>13-Jul-19</td>\n",
       "      <td>26</td>\n",
       "    </tr>\n",
       "    <tr>\n",
       "      <th>2</th>\n",
       "      <td>14-Jul-19</td>\n",
       "      <td>41</td>\n",
       "    </tr>\n",
       "    <tr>\n",
       "      <th>3</th>\n",
       "      <td>15-Jul-19</td>\n",
       "      <td>84</td>\n",
       "    </tr>\n",
       "    <tr>\n",
       "      <th>4</th>\n",
       "      <td>16-Jul-19</td>\n",
       "      <td>44</td>\n",
       "    </tr>\n",
       "  </tbody>\n",
       "</table>\n",
       "</div>"
      ],
      "text/plain": [
       "        Date  Messages\n",
       "0  12-Jul-19         6\n",
       "1  13-Jul-19        26\n",
       "2  14-Jul-19        41\n",
       "3  15-Jul-19        84\n",
       "4  16-Jul-19        44"
      ]
     },
     "execution_count": 101,
     "metadata": {},
     "output_type": "execute_result"
    }
   ],
   "source": [
    "# load messages \n",
    "anansi_messages2 = pd.read_csv('data/an7.csv')\n",
    "anansi_messages2.head()"
   ]
  },
  {
   "cell_type": "code",
   "execution_count": 113,
   "metadata": {},
   "outputs": [],
   "source": [
    "# merge the 2 csv and remove duplicate files\n",
    "anansi_msg = pd.concat([anansi_messages,anansi_messages2]).drop_duplicates(subset='Date', keep=\"last\")"
   ]
  },
  {
   "cell_type": "markdown",
   "metadata": {},
   "source": [
    "<br>\n",
    "<br>\n",
    "<br>\n",
    "<h1 ><center> Visualization </center></h1>"
   ]
  },
  {
   "cell_type": "code",
   "execution_count": 107,
   "metadata": {},
   "outputs": [
    {
     "data": {
      "application/vnd.plotly.v1+json": {
       "config": {
        "plotlyServerURL": "https://plot.ly"
       },
       "data": [
        {
         "marker": {
          "color": "Red",
          "colorscale": "Viridis",
          "opacity": 0.6,
          "size": 10
         },
         "mode": "markers",
         "type": "scatter",
         "uid": "63fcce1b-d4c4-4c86-a41f-9829cec3c934",
         "x": [
          "8-Jul-19",
          "9-Jul-19",
          "10-Jul-19",
          "11-Jul-19",
          "12-Jul-19",
          "13-Jul-19",
          "14-Jul-19",
          "15-Jul-19",
          "16-Jul-19",
          "17-Jul-19",
          "18-Jul-19",
          "19-Jul-19",
          "20-Jul-19",
          "21-Jul-19",
          "22-Jul-19",
          "23-Jul-19",
          "24-Jul-19",
          "25-Jul-19",
          "26-Jul-19",
          "27-Jul-19",
          "28-Jul-19",
          "29-Jul-19",
          "30-Jul-19",
          "31-Jul-19",
          "1-Aug-19",
          "2-Aug-19",
          "3-Aug-19",
          "4-Aug-19",
          "5-Aug-19",
          "6-Aug-19",
          "7-Aug-19",
          "8-Aug-19",
          "9-Aug-19"
         ],
         "y": [
          8,
          42,
          133,
          30,
          6,
          26,
          41,
          84,
          44,
          83,
          89,
          101,
          55,
          49,
          124,
          36,
          53,
          17,
          12,
          15,
          5,
          9,
          4,
          7,
          7,
          14,
          5,
          11,
          5,
          4,
          4,
          3,
          13
         ]
        }
       ],
       "layout": {
        "title": {
         "text": ""
        },
        "xaxis": {
         "title": {
          "text": "Day"
         }
        },
        "yaxis": {
         "title": {
          "text": "Number of Messages"
         }
        }
       }
      },
      "text/html": [
       "<div>\n",
       "        \n",
       "        \n",
       "            <div id=\"d944bc7a-730e-4281-87ed-edb5f33e8130\" class=\"plotly-graph-div\" style=\"height:525px; width:100%;\"></div>\n",
       "            <script type=\"text/javascript\">\n",
       "                require([\"plotly\"], function(Plotly) {\n",
       "                    window.PLOTLYENV=window.PLOTLYENV || {};\n",
       "                    window.PLOTLYENV.BASE_URL='https://plot.ly';\n",
       "                    \n",
       "                if (document.getElementById(\"d944bc7a-730e-4281-87ed-edb5f33e8130\")) {\n",
       "                    Plotly.newPlot(\n",
       "                        'd944bc7a-730e-4281-87ed-edb5f33e8130',\n",
       "                        [{\"marker\": {\"color\": \"Red\", \"colorscale\": \"Viridis\", \"opacity\": 0.6, \"size\": 10}, \"mode\": \"markers\", \"type\": \"scatter\", \"uid\": \"63fcce1b-d4c4-4c86-a41f-9829cec3c934\", \"x\": [\"8-Jul-19\", \"9-Jul-19\", \"10-Jul-19\", \"11-Jul-19\", \"12-Jul-19\", \"13-Jul-19\", \"14-Jul-19\", \"15-Jul-19\", \"16-Jul-19\", \"17-Jul-19\", \"18-Jul-19\", \"19-Jul-19\", \"20-Jul-19\", \"21-Jul-19\", \"22-Jul-19\", \"23-Jul-19\", \"24-Jul-19\", \"25-Jul-19\", \"26-Jul-19\", \"27-Jul-19\", \"28-Jul-19\", \"29-Jul-19\", \"30-Jul-19\", \"31-Jul-19\", \"1-Aug-19\", \"2-Aug-19\", \"3-Aug-19\", \"4-Aug-19\", \"5-Aug-19\", \"6-Aug-19\", \"7-Aug-19\", \"8-Aug-19\", \"9-Aug-19\"], \"y\": [8, 42, 133, 30, 6, 26, 41, 84, 44, 83, 89, 101, 55, 49, 124, 36, 53, 17, 12, 15, 5, 9, 4, 7, 7, 14, 5, 11, 5, 4, 4, 3, 13]}],\n",
       "                        {\"title\": {\"text\": \"\"}, \"xaxis\": {\"title\": {\"text\": \"Day\"}}, \"yaxis\": {\"title\": {\"text\": \"Number of Messages\"}}},\n",
       "                        {\"plotlyServerURL\": \"https://plot.ly\", \"responsive\": true}\n",
       "                    ).then(function(){\n",
       "                            \n",
       "var gd = document.getElementById('d944bc7a-730e-4281-87ed-edb5f33e8130');\n",
       "var x = new MutationObserver(function (mutations, observer) {{\n",
       "        var display = window.getComputedStyle(gd).display;\n",
       "        if (!display || display === 'none') {{\n",
       "            console.log([gd, 'removed!']);\n",
       "            Plotly.purge(gd);\n",
       "            observer.disconnect();\n",
       "        }}\n",
       "}});\n",
       "\n",
       "// Listen for the removal of the full notebook cells\n",
       "var notebookContainer = gd.closest('#notebook-container');\n",
       "if (notebookContainer) {{\n",
       "    x.observe(notebookContainer, {childList: true});\n",
       "}}\n",
       "\n",
       "// Listen for the clearing of the current output cell\n",
       "var outputEl = gd.closest('.output');\n",
       "if (outputEl) {{\n",
       "    x.observe(outputEl, {childList: true});\n",
       "}}\n",
       "\n",
       "                        })\n",
       "                };\n",
       "                });\n",
       "            </script>\n",
       "        </div>"
      ]
     },
     "metadata": {},
     "output_type": "display_data"
    }
   ],
   "source": [
    "colors = np.random.rand(100)\n",
    "sz = np.random.rand(100)*30\n",
    "fig = go.Figure()\n",
    "fig.add_scatter(x = anansi_msg['Date'],\n",
    "                y = anansi_msg['Messages'],\n",
    "                mode='markers',\n",
    "                marker={'size': 10,\n",
    "                        'color': 'Red',\n",
    "                        'opacity': 0.6,\n",
    "                        'colorscale': 'Viridis'\n",
    "                       });\n",
    "\n",
    "fig.layout.update(title='',\n",
    "                   xaxis_title='Day',\n",
    "                   yaxis_title='Number of Messages')\n",
    "\n",
    "fig.show()"
   ]
  },
  {
   "cell_type": "code",
   "execution_count": 109,
   "metadata": {},
   "outputs": [
    {
     "data": {
      "application/vnd.plotly.v1+json": {
       "config": {
        "plotlyServerURL": "https://plot.ly"
       },
       "data": [
        {
         "connectgaps": true,
         "name": "<b>Number of Daily Conversations</b>",
         "type": "scatter",
         "uid": "aac977dc-e428-4b6b-b3b3-ef75ba93e750",
         "x": [
          "8-Jul-19",
          "9-Jul-19",
          "10-Jul-19",
          "11-Jul-19",
          "12-Jul-19",
          "13-Jul-19",
          "14-Jul-19",
          "15-Jul-19",
          "16-Jul-19",
          "17-Jul-19",
          "18-Jul-19",
          "19-Jul-19",
          "20-Jul-19",
          "21-Jul-19",
          "22-Jul-19",
          "23-Jul-19",
          "24-Jul-19",
          "25-Jul-19",
          "26-Jul-19",
          "27-Jul-19",
          "28-Jul-19",
          "29-Jul-19",
          "30-Jul-19",
          "31-Jul-19",
          "1-Aug-19",
          "2-Aug-19",
          "3-Aug-19",
          "4-Aug-19",
          "5-Aug-19",
          "6-Aug-19",
          "7-Aug-19",
          "8-Aug-19",
          "9-Aug-19"
         ],
         "y": [
          8,
          42,
          133,
          30,
          6,
          26,
          41,
          84,
          44,
          83,
          89,
          101,
          55,
          49,
          124,
          36,
          53,
          17,
          12,
          15,
          5,
          9,
          4,
          7,
          7,
          14,
          5,
          11,
          5,
          4,
          4,
          3,
          13
         ]
        }
       ],
       "layout": {
        "title": {
         "text": ""
        },
        "xaxis": {
         "title": {
          "text": "Day"
         }
        },
        "yaxis": {
         "title": {
          "text": "Number of Messages"
         }
        }
       }
      },
      "text/html": [
       "<div>\n",
       "        \n",
       "        \n",
       "            <div id=\"df7c0d5c-3eee-4f05-8c52-f5236b05388b\" class=\"plotly-graph-div\" style=\"height:525px; width:100%;\"></div>\n",
       "            <script type=\"text/javascript\">\n",
       "                require([\"plotly\"], function(Plotly) {\n",
       "                    window.PLOTLYENV=window.PLOTLYENV || {};\n",
       "                    window.PLOTLYENV.BASE_URL='https://plot.ly';\n",
       "                    \n",
       "                if (document.getElementById(\"df7c0d5c-3eee-4f05-8c52-f5236b05388b\")) {\n",
       "                    Plotly.newPlot(\n",
       "                        'df7c0d5c-3eee-4f05-8c52-f5236b05388b',\n",
       "                        [{\"connectgaps\": true, \"name\": \"<b>Number of Daily Conversations</b>\", \"type\": \"scatter\", \"uid\": \"aac977dc-e428-4b6b-b3b3-ef75ba93e750\", \"x\": [\"8-Jul-19\", \"9-Jul-19\", \"10-Jul-19\", \"11-Jul-19\", \"12-Jul-19\", \"13-Jul-19\", \"14-Jul-19\", \"15-Jul-19\", \"16-Jul-19\", \"17-Jul-19\", \"18-Jul-19\", \"19-Jul-19\", \"20-Jul-19\", \"21-Jul-19\", \"22-Jul-19\", \"23-Jul-19\", \"24-Jul-19\", \"25-Jul-19\", \"26-Jul-19\", \"27-Jul-19\", \"28-Jul-19\", \"29-Jul-19\", \"30-Jul-19\", \"31-Jul-19\", \"1-Aug-19\", \"2-Aug-19\", \"3-Aug-19\", \"4-Aug-19\", \"5-Aug-19\", \"6-Aug-19\", \"7-Aug-19\", \"8-Aug-19\", \"9-Aug-19\"], \"y\": [8, 42, 133, 30, 6, 26, 41, 84, 44, 83, 89, 101, 55, 49, 124, 36, 53, 17, 12, 15, 5, 9, 4, 7, 7, 14, 5, 11, 5, 4, 4, 3, 13]}],\n",
       "                        {\"title\": {\"text\": \"\"}, \"xaxis\": {\"title\": {\"text\": \"Day\"}}, \"yaxis\": {\"title\": {\"text\": \"Number of Messages\"}}},\n",
       "                        {\"plotlyServerURL\": \"https://plot.ly\", \"responsive\": true}\n",
       "                    ).then(function(){\n",
       "                            \n",
       "var gd = document.getElementById('df7c0d5c-3eee-4f05-8c52-f5236b05388b');\n",
       "var x = new MutationObserver(function (mutations, observer) {{\n",
       "        var display = window.getComputedStyle(gd).display;\n",
       "        if (!display || display === 'none') {{\n",
       "            console.log([gd, 'removed!']);\n",
       "            Plotly.purge(gd);\n",
       "            observer.disconnect();\n",
       "        }}\n",
       "}});\n",
       "\n",
       "// Listen for the removal of the full notebook cells\n",
       "var notebookContainer = gd.closest('#notebook-container');\n",
       "if (notebookContainer) {{\n",
       "    x.observe(notebookContainer, {childList: true});\n",
       "}}\n",
       "\n",
       "// Listen for the clearing of the current output cell\n",
       "var outputEl = gd.closest('.output');\n",
       "if (outputEl) {{\n",
       "    x.observe(outputEl, {childList: true});\n",
       "}}\n",
       "\n",
       "                        })\n",
       "                };\n",
       "                });\n",
       "            </script>\n",
       "        </div>"
      ]
     },
     "metadata": {},
     "output_type": "display_data"
    }
   ],
   "source": [
    "fig = go.Figure()\n",
    "\n",
    "fig.add_trace(go.Scatter(\n",
    "    x=anansi_msg['Date'],\n",
    "    y=anansi_msg['Messages'],\n",
    "    name = '<b>Number of Daily Conversations</b>', # Style name/legend entry with html tags\n",
    "    connectgaps=True # override default to connect the gaps\n",
    "))\n",
    "\n",
    "fig.layout.update(title='',\n",
    "                   xaxis_title='Day',\n",
    "                   yaxis_title='Number of Messages')\n",
    "\n",
    "fig.show()"
   ]
  },
  {
   "cell_type": "markdown",
   "metadata": {},
   "source": [
    "<br>\n",
    "<br>\n",
    "<br>\n",
    "<br>\n",
    "\n",
    "# Data Analysis"
   ]
  },
  {
   "cell_type": "code",
   "execution_count": 115,
   "metadata": {},
   "outputs": [
    {
     "data": {
      "text/plain": [
       "sum     1139.000000\n",
       "min        3.000000\n",
       "max      133.000000\n",
       "mean      34.515152\n",
       "std       37.022899\n",
       "Name: Messages, dtype: float64"
      ]
     },
     "execution_count": 115,
     "metadata": {},
     "output_type": "execute_result"
    }
   ],
   "source": [
    "anansi_msg['Messages'].agg(['sum', 'min', 'max',\"mean\", 'std'])"
   ]
  },
  {
   "cell_type": "markdown",
   "metadata": {},
   "source": [
    "<br>\n",
    "<br>\n",
    "<br>\n",
    "<br>\n",
    "\n",
    "### The Number of Messages had in One Month (from July 8th to August 9th): \n"
   ]
  },
  {
   "cell_type": "markdown",
   "metadata": {},
   "source": [
    "<font size=\"+3\"style=\"color:Red;\"><center>1139</center></font>\n",
    "\n",
    "<br>\n",
    "<br>\n"
   ]
  },
  {
   "cell_type": "markdown",
   "metadata": {},
   "source": [
    "### The Minimum Daily Messages had in One Month (from July 8th to August 9th): \n",
    "\n"
   ]
  },
  {
   "cell_type": "markdown",
   "metadata": {},
   "source": [
    "<font size=\"+3\"style=\"color:Red;\"><center>3</center></font>\n"
   ]
  },
  {
   "cell_type": "markdown",
   "metadata": {},
   "source": [
    "\n",
    "<br>\n",
    "<br>\n",
    "\n",
    "### The Maximum Daily Messages had in One Month (from July 8th to August 9th): \n",
    "\n"
   ]
  },
  {
   "cell_type": "markdown",
   "metadata": {},
   "source": [
    "<font size=\"+3\"style=\"color:Red;\"><center>133</center></font>\n",
    "\n",
    "<br>\n",
    "<br>\n"
   ]
  },
  {
   "cell_type": "markdown",
   "metadata": {},
   "source": [
    "### The Average Daily Messages had in One Month (from July 8th to August 9th): \n",
    "\n",
    "\n",
    "\n"
   ]
  },
  {
   "cell_type": "markdown",
   "metadata": {},
   "source": [
    "<font size=\"+3\"style=\"color:Red;\"><center>34</center></font>\n",
    "\n",
    "<br>\n",
    "<br>"
   ]
  },
  {
   "cell_type": "markdown",
   "metadata": {},
   "source": [
    "### The Standard Deviation of Daily Messages had in One Month (from July 8th to August 9th): \n",
    "\n",
    "\n"
   ]
  },
  {
   "cell_type": "markdown",
   "metadata": {},
   "source": [
    "<font size=\"+3\"style=\"color:Red;\"><center>37</center></font>\n",
    "\n",
    "<br>\n",
    "<br>"
   ]
  },
  {
   "cell_type": "markdown",
   "metadata": {},
   "source": [
    "<br>\n",
    "<br>\n",
    "<br>\n",
    "<h1 style=\"color:Green;\">Active Users</h1>"
   ]
  },
  {
   "cell_type": "code",
   "execution_count": 131,
   "metadata": {},
   "outputs": [
    {
     "data": {
      "text/html": [
       "<div>\n",
       "<style scoped>\n",
       "    .dataframe tbody tr th:only-of-type {\n",
       "        vertical-align: middle;\n",
       "    }\n",
       "\n",
       "    .dataframe tbody tr th {\n",
       "        vertical-align: top;\n",
       "    }\n",
       "\n",
       "    .dataframe thead th {\n",
       "        text-align: right;\n",
       "    }\n",
       "</style>\n",
       "<table border=\"1\" class=\"dataframe\">\n",
       "  <thead>\n",
       "    <tr style=\"text-align: right;\">\n",
       "      <th></th>\n",
       "      <th>Date</th>\n",
       "      <th>Total</th>\n",
       "    </tr>\n",
       "  </thead>\n",
       "  <tbody>\n",
       "    <tr>\n",
       "      <th>0</th>\n",
       "      <td>12-Jul-19</td>\n",
       "      <td>6</td>\n",
       "    </tr>\n",
       "    <tr>\n",
       "      <th>1</th>\n",
       "      <td>13-Jul-19</td>\n",
       "      <td>26</td>\n",
       "    </tr>\n",
       "    <tr>\n",
       "      <th>2</th>\n",
       "      <td>14-Jul-19</td>\n",
       "      <td>39</td>\n",
       "    </tr>\n",
       "    <tr>\n",
       "      <th>3</th>\n",
       "      <td>15-Jul-19</td>\n",
       "      <td>80</td>\n",
       "    </tr>\n",
       "    <tr>\n",
       "      <th>4</th>\n",
       "      <td>16-Jul-19</td>\n",
       "      <td>42</td>\n",
       "    </tr>\n",
       "  </tbody>\n",
       "</table>\n",
       "</div>"
      ],
      "text/plain": [
       "        Date  Total\n",
       "0  12-Jul-19      6\n",
       "1  13-Jul-19     26\n",
       "2  14-Jul-19     39\n",
       "3  15-Jul-19     80\n",
       "4  16-Jul-19     42"
      ]
     },
     "execution_count": 131,
     "metadata": {},
     "output_type": "execute_result"
    }
   ],
   "source": [
    "# load messages \n",
    "anansi_users = pd.read_csv('data/an8.csv')\n",
    "anansi_users.head()"
   ]
  },
  {
   "cell_type": "code",
   "execution_count": 132,
   "metadata": {},
   "outputs": [
    {
     "data": {
      "text/html": [
       "<div>\n",
       "<style scoped>\n",
       "    .dataframe tbody tr th:only-of-type {\n",
       "        vertical-align: middle;\n",
       "    }\n",
       "\n",
       "    .dataframe tbody tr th {\n",
       "        vertical-align: top;\n",
       "    }\n",
       "\n",
       "    .dataframe thead th {\n",
       "        text-align: right;\n",
       "    }\n",
       "</style>\n",
       "<table border=\"1\" class=\"dataframe\">\n",
       "  <thead>\n",
       "    <tr style=\"text-align: right;\">\n",
       "      <th></th>\n",
       "      <th>Date</th>\n",
       "      <th>Total</th>\n",
       "    </tr>\n",
       "  </thead>\n",
       "  <tbody>\n",
       "    <tr>\n",
       "      <th>0</th>\n",
       "      <td>8-Jul-19</td>\n",
       "      <td>2</td>\n",
       "    </tr>\n",
       "    <tr>\n",
       "      <th>1</th>\n",
       "      <td>9-Jul-19</td>\n",
       "      <td>40</td>\n",
       "    </tr>\n",
       "    <tr>\n",
       "      <th>2</th>\n",
       "      <td>10-Jul-19</td>\n",
       "      <td>119</td>\n",
       "    </tr>\n",
       "    <tr>\n",
       "      <th>3</th>\n",
       "      <td>11-Jul-19</td>\n",
       "      <td>28</td>\n",
       "    </tr>\n",
       "    <tr>\n",
       "      <th>4</th>\n",
       "      <td>12-Jul-19</td>\n",
       "      <td>6</td>\n",
       "    </tr>\n",
       "  </tbody>\n",
       "</table>\n",
       "</div>"
      ],
      "text/plain": [
       "        Date  Total\n",
       "0   8-Jul-19      2\n",
       "1   9-Jul-19     40\n",
       "2  10-Jul-19    119\n",
       "3  11-Jul-19     28\n",
       "4  12-Jul-19      6"
      ]
     },
     "execution_count": 132,
     "metadata": {},
     "output_type": "execute_result"
    }
   ],
   "source": [
    "# load messages \n",
    "anansi_users2 = pd.read_csv('data/an2.csv')\n",
    "anansi_users2.head()"
   ]
  },
  {
   "cell_type": "code",
   "execution_count": 135,
   "metadata": {},
   "outputs": [],
   "source": [
    "# merge the 2 csv and remove duplicate files\n",
    "anansi_users = pd.concat([anansi_users2,anansi_users]).drop_duplicates(subset='Date', keep=\"last\")"
   ]
  },
  {
   "cell_type": "markdown",
   "metadata": {},
   "source": [
    "<br>\n",
    "<br>\n",
    "<br>\n",
    "<h1 ><center> Visualization </center></h1>"
   ]
  },
  {
   "cell_type": "code",
   "execution_count": 140,
   "metadata": {},
   "outputs": [
    {
     "data": {
      "application/vnd.plotly.v1+json": {
       "config": {
        "plotlyServerURL": "https://plot.ly"
       },
       "data": [
        {
         "marker": {
          "color": "Red",
          "colorscale": "Viridis",
          "opacity": 0.6,
          "size": 10
         },
         "mode": "markers",
         "type": "scatter",
         "uid": "2d4feb7c-4bc0-40cc-b3dd-270605ec888f",
         "x": [
          "8-Jul-19",
          "9-Jul-19",
          "10-Jul-19",
          "11-Jul-19",
          "12-Jul-19",
          "13-Jul-19",
          "14-Jul-19",
          "15-Jul-19",
          "16-Jul-19",
          "17-Jul-19",
          "18-Jul-19",
          "19-Jul-19",
          "20-Jul-19",
          "21-Jul-19",
          "22-Jul-19",
          "23-Jul-19",
          "24-Jul-19",
          "25-Jul-19",
          "26-Jul-19",
          "27-Jul-19",
          "28-Jul-19",
          "29-Jul-19",
          "30-Jul-19",
          "31-Jul-19",
          "1-Aug-19",
          "2-Aug-19",
          "3-Aug-19",
          "4-Aug-19",
          "5-Aug-19",
          "6-Aug-19",
          "7-Aug-19",
          "8-Aug-19",
          "9-Aug-19"
         ],
         "y": [
          2,
          40,
          119,
          28,
          6,
          26,
          39,
          80,
          42,
          69,
          83,
          91,
          53,
          47,
          102,
          29,
          45,
          14,
          9,
          12,
          5,
          8,
          4,
          7,
          7,
          10,
          5,
          4,
          5,
          4,
          4,
          2,
          7
         ]
        }
       ],
       "layout": {
        "title": {
         "text": ""
        },
        "xaxis": {
         "title": {
          "text": "Day"
         }
        },
        "yaxis": {
         "title": {
          "text": "Number of Users"
         }
        }
       }
      },
      "text/html": [
       "<div>\n",
       "        \n",
       "        \n",
       "            <div id=\"4739ab6c-2f55-44c1-ac83-917b6f1ab1be\" class=\"plotly-graph-div\" style=\"height:525px; width:100%;\"></div>\n",
       "            <script type=\"text/javascript\">\n",
       "                require([\"plotly\"], function(Plotly) {\n",
       "                    window.PLOTLYENV=window.PLOTLYENV || {};\n",
       "                    window.PLOTLYENV.BASE_URL='https://plot.ly';\n",
       "                    \n",
       "                if (document.getElementById(\"4739ab6c-2f55-44c1-ac83-917b6f1ab1be\")) {\n",
       "                    Plotly.newPlot(\n",
       "                        '4739ab6c-2f55-44c1-ac83-917b6f1ab1be',\n",
       "                        [{\"marker\": {\"color\": \"Red\", \"colorscale\": \"Viridis\", \"opacity\": 0.6, \"size\": 10}, \"mode\": \"markers\", \"type\": \"scatter\", \"uid\": \"2d4feb7c-4bc0-40cc-b3dd-270605ec888f\", \"x\": [\"8-Jul-19\", \"9-Jul-19\", \"10-Jul-19\", \"11-Jul-19\", \"12-Jul-19\", \"13-Jul-19\", \"14-Jul-19\", \"15-Jul-19\", \"16-Jul-19\", \"17-Jul-19\", \"18-Jul-19\", \"19-Jul-19\", \"20-Jul-19\", \"21-Jul-19\", \"22-Jul-19\", \"23-Jul-19\", \"24-Jul-19\", \"25-Jul-19\", \"26-Jul-19\", \"27-Jul-19\", \"28-Jul-19\", \"29-Jul-19\", \"30-Jul-19\", \"31-Jul-19\", \"1-Aug-19\", \"2-Aug-19\", \"3-Aug-19\", \"4-Aug-19\", \"5-Aug-19\", \"6-Aug-19\", \"7-Aug-19\", \"8-Aug-19\", \"9-Aug-19\"], \"y\": [2, 40, 119, 28, 6, 26, 39, 80, 42, 69, 83, 91, 53, 47, 102, 29, 45, 14, 9, 12, 5, 8, 4, 7, 7, 10, 5, 4, 5, 4, 4, 2, 7]}],\n",
       "                        {\"title\": {\"text\": \"\"}, \"xaxis\": {\"title\": {\"text\": \"Day\"}}, \"yaxis\": {\"title\": {\"text\": \"Number of Users\"}}},\n",
       "                        {\"plotlyServerURL\": \"https://plot.ly\", \"responsive\": true}\n",
       "                    ).then(function(){\n",
       "                            \n",
       "var gd = document.getElementById('4739ab6c-2f55-44c1-ac83-917b6f1ab1be');\n",
       "var x = new MutationObserver(function (mutations, observer) {{\n",
       "        var display = window.getComputedStyle(gd).display;\n",
       "        if (!display || display === 'none') {{\n",
       "            console.log([gd, 'removed!']);\n",
       "            Plotly.purge(gd);\n",
       "            observer.disconnect();\n",
       "        }}\n",
       "}});\n",
       "\n",
       "// Listen for the removal of the full notebook cells\n",
       "var notebookContainer = gd.closest('#notebook-container');\n",
       "if (notebookContainer) {{\n",
       "    x.observe(notebookContainer, {childList: true});\n",
       "}}\n",
       "\n",
       "// Listen for the clearing of the current output cell\n",
       "var outputEl = gd.closest('.output');\n",
       "if (outputEl) {{\n",
       "    x.observe(outputEl, {childList: true});\n",
       "}}\n",
       "\n",
       "                        })\n",
       "                };\n",
       "                });\n",
       "            </script>\n",
       "        </div>"
      ]
     },
     "metadata": {},
     "output_type": "display_data"
    }
   ],
   "source": [
    "colors = np.random.rand(100)\n",
    "sz = np.random.rand(100)*30\n",
    "fig = go.Figure()\n",
    "fig.add_scatter(x = anansi_users['Date'],\n",
    "                y = anansi_users['Total'],\n",
    "                mode='markers',\n",
    "                marker={'size': 10,\n",
    "                        'color': 'Red',\n",
    "                        'opacity': 0.6,\n",
    "                        'colorscale': 'Viridis'\n",
    "                       });\n",
    "\n",
    "fig.layout.update(title='',\n",
    "                   xaxis_title='Day',\n",
    "                   yaxis_title='Number of Users')\n",
    "\n",
    "fig.show()"
   ]
  },
  {
   "cell_type": "code",
   "execution_count": 141,
   "metadata": {},
   "outputs": [
    {
     "data": {
      "application/vnd.plotly.v1+json": {
       "config": {
        "plotlyServerURL": "https://plot.ly"
       },
       "data": [
        {
         "connectgaps": true,
         "name": "<b>Number of Daily Users</b>",
         "type": "scatter",
         "uid": "09ad86cb-92bc-48c3-bfbb-7a1fbbaa3050",
         "x": [
          "8-Jul-19",
          "9-Jul-19",
          "10-Jul-19",
          "11-Jul-19",
          "12-Jul-19",
          "13-Jul-19",
          "14-Jul-19",
          "15-Jul-19",
          "16-Jul-19",
          "17-Jul-19",
          "18-Jul-19",
          "19-Jul-19",
          "20-Jul-19",
          "21-Jul-19",
          "22-Jul-19",
          "23-Jul-19",
          "24-Jul-19",
          "25-Jul-19",
          "26-Jul-19",
          "27-Jul-19",
          "28-Jul-19",
          "29-Jul-19",
          "30-Jul-19",
          "31-Jul-19",
          "1-Aug-19",
          "2-Aug-19",
          "3-Aug-19",
          "4-Aug-19",
          "5-Aug-19",
          "6-Aug-19",
          "7-Aug-19",
          "8-Aug-19",
          "9-Aug-19"
         ],
         "y": [
          2,
          40,
          119,
          28,
          6,
          26,
          39,
          80,
          42,
          69,
          83,
          91,
          53,
          47,
          102,
          29,
          45,
          14,
          9,
          12,
          5,
          8,
          4,
          7,
          7,
          10,
          5,
          4,
          5,
          4,
          4,
          2,
          7
         ]
        }
       ],
       "layout": {
        "title": {
         "text": ""
        },
        "xaxis": {
         "title": {
          "text": "Day"
         }
        },
        "yaxis": {
         "title": {
          "text": "Number of Users"
         }
        }
       }
      },
      "text/html": [
       "<div>\n",
       "        \n",
       "        \n",
       "            <div id=\"5ee81f5d-4f2e-42c8-83fa-29067baba389\" class=\"plotly-graph-div\" style=\"height:525px; width:100%;\"></div>\n",
       "            <script type=\"text/javascript\">\n",
       "                require([\"plotly\"], function(Plotly) {\n",
       "                    window.PLOTLYENV=window.PLOTLYENV || {};\n",
       "                    window.PLOTLYENV.BASE_URL='https://plot.ly';\n",
       "                    \n",
       "                if (document.getElementById(\"5ee81f5d-4f2e-42c8-83fa-29067baba389\")) {\n",
       "                    Plotly.newPlot(\n",
       "                        '5ee81f5d-4f2e-42c8-83fa-29067baba389',\n",
       "                        [{\"connectgaps\": true, \"name\": \"<b>Number of Daily Users</b>\", \"type\": \"scatter\", \"uid\": \"09ad86cb-92bc-48c3-bfbb-7a1fbbaa3050\", \"x\": [\"8-Jul-19\", \"9-Jul-19\", \"10-Jul-19\", \"11-Jul-19\", \"12-Jul-19\", \"13-Jul-19\", \"14-Jul-19\", \"15-Jul-19\", \"16-Jul-19\", \"17-Jul-19\", \"18-Jul-19\", \"19-Jul-19\", \"20-Jul-19\", \"21-Jul-19\", \"22-Jul-19\", \"23-Jul-19\", \"24-Jul-19\", \"25-Jul-19\", \"26-Jul-19\", \"27-Jul-19\", \"28-Jul-19\", \"29-Jul-19\", \"30-Jul-19\", \"31-Jul-19\", \"1-Aug-19\", \"2-Aug-19\", \"3-Aug-19\", \"4-Aug-19\", \"5-Aug-19\", \"6-Aug-19\", \"7-Aug-19\", \"8-Aug-19\", \"9-Aug-19\"], \"y\": [2, 40, 119, 28, 6, 26, 39, 80, 42, 69, 83, 91, 53, 47, 102, 29, 45, 14, 9, 12, 5, 8, 4, 7, 7, 10, 5, 4, 5, 4, 4, 2, 7]}],\n",
       "                        {\"title\": {\"text\": \"\"}, \"xaxis\": {\"title\": {\"text\": \"Day\"}}, \"yaxis\": {\"title\": {\"text\": \"Number of Users\"}}},\n",
       "                        {\"plotlyServerURL\": \"https://plot.ly\", \"responsive\": true}\n",
       "                    ).then(function(){\n",
       "                            \n",
       "var gd = document.getElementById('5ee81f5d-4f2e-42c8-83fa-29067baba389');\n",
       "var x = new MutationObserver(function (mutations, observer) {{\n",
       "        var display = window.getComputedStyle(gd).display;\n",
       "        if (!display || display === 'none') {{\n",
       "            console.log([gd, 'removed!']);\n",
       "            Plotly.purge(gd);\n",
       "            observer.disconnect();\n",
       "        }}\n",
       "}});\n",
       "\n",
       "// Listen for the removal of the full notebook cells\n",
       "var notebookContainer = gd.closest('#notebook-container');\n",
       "if (notebookContainer) {{\n",
       "    x.observe(notebookContainer, {childList: true});\n",
       "}}\n",
       "\n",
       "// Listen for the clearing of the current output cell\n",
       "var outputEl = gd.closest('.output');\n",
       "if (outputEl) {{\n",
       "    x.observe(outputEl, {childList: true});\n",
       "}}\n",
       "\n",
       "                        })\n",
       "                };\n",
       "                });\n",
       "            </script>\n",
       "        </div>"
      ]
     },
     "metadata": {},
     "output_type": "display_data"
    }
   ],
   "source": [
    "fig = go.Figure()\n",
    "\n",
    "fig.add_trace(go.Scatter(\n",
    "    x=anansi_users['Date'],\n",
    "    y=anansi_users['Total'],\n",
    "    name = '<b>Number of Daily Users</b>', # Style name/legend entry with html tags\n",
    "    connectgaps=True # override default to connect the gaps\n",
    "))\n",
    "\n",
    "fig.layout.update(title='',\n",
    "                   xaxis_title='Day',\n",
    "                   yaxis_title='Number of Users')\n",
    "\n",
    "fig.show()"
   ]
  },
  {
   "cell_type": "markdown",
   "metadata": {},
   "source": [
    "<br>\n",
    "<br>\n",
    "<br>\n",
    "<br>\n",
    "\n",
    "# Data Analysis"
   ]
  },
  {
   "cell_type": "code",
   "execution_count": 142,
   "metadata": {},
   "outputs": [
    {
     "data": {
      "text/plain": [
       "sum     1008.000000\n",
       "min        2.000000\n",
       "max      119.000000\n",
       "mean      30.545455\n",
       "std       33.189881\n",
       "Name: Total, dtype: float64"
      ]
     },
     "execution_count": 142,
     "metadata": {},
     "output_type": "execute_result"
    }
   ],
   "source": [
    "anansi_users['Total'].agg(['sum', 'min', 'max',\"mean\", 'std'])"
   ]
  },
  {
   "cell_type": "markdown",
   "metadata": {},
   "source": [
    "<br>\n",
    "<br>\n",
    "<br>\n",
    "<br>\n",
    "\n",
    "### The Number of Active Users in One Month (from July 8th to August 9th): \n"
   ]
  },
  {
   "cell_type": "markdown",
   "metadata": {},
   "source": [
    "<font size=\"+3\"style=\"color:Red;\"><center>1008</center></font>"
   ]
  },
  {
   "cell_type": "markdown",
   "metadata": {},
   "source": [
    "### The Minimum Daily Users had in One Month (from July 8th to August 9th): \n"
   ]
  },
  {
   "cell_type": "markdown",
   "metadata": {},
   "source": [
    "<font size=\"+3\"style=\"color:Red;\"><center>2</center></font>"
   ]
  },
  {
   "cell_type": "markdown",
   "metadata": {},
   "source": [
    "### The Maximum Daily Users had in One Month (from July 8th to August 9th): \n"
   ]
  },
  {
   "cell_type": "markdown",
   "metadata": {},
   "source": [
    "<font size=\"+3\"style=\"color:Red;\"><center>119</center></font>"
   ]
  },
  {
   "cell_type": "markdown",
   "metadata": {},
   "source": [
    "### The Average number of Daily Users had in One Month (from July 8th to August 9th): \n"
   ]
  },
  {
   "cell_type": "markdown",
   "metadata": {},
   "source": [
    "<font size=\"+3\"style=\"color:Red;\"><center>30</center></font>"
   ]
  },
  {
   "cell_type": "markdown",
   "metadata": {},
   "source": [
    "### The Standard Deviation of Daily Users had in One Month (from July 8th to August 9th): "
   ]
  },
  {
   "cell_type": "markdown",
   "metadata": {},
   "source": [
    "<font size=\"+3\"style=\"color:Red;\"><center>33</center></font>"
   ]
  },
  {
   "cell_type": "markdown",
   "metadata": {},
   "source": [
    "<br>\n",
    "<br>\n",
    "<br>\n",
    "<br>\n",
    "<br>\n",
    "<br>\n",
    "## Merging all the Active Users and Conversations"
   ]
  },
  {
   "cell_type": "code",
   "execution_count": 184,
   "metadata": {},
   "outputs": [],
   "source": [
    "finaldf = pd.concat([anansi_users, anansi_msg, anansi_convos], axis=1, join='inner').sort_index()"
   ]
  },
  {
   "cell_type": "code",
   "execution_count": 289,
   "metadata": {},
   "outputs": [],
   "source": [
    "finaldf.columns = ['Date', 'Anansi Stories Active Users', 'Anansi Stories Conversations']"
   ]
  },
  {
   "cell_type": "code",
   "execution_count": 288,
   "metadata": {},
   "outputs": [
    {
     "data": {
      "text/html": [
       "<div>\n",
       "<style scoped>\n",
       "    .dataframe tbody tr th:only-of-type {\n",
       "        vertical-align: middle;\n",
       "    }\n",
       "\n",
       "    .dataframe tbody tr th {\n",
       "        vertical-align: top;\n",
       "    }\n",
       "\n",
       "    .dataframe thead th {\n",
       "        text-align: right;\n",
       "    }\n",
       "</style>\n",
       "<table border=\"1\" class=\"dataframe\">\n",
       "  <thead>\n",
       "    <tr style=\"text-align: right;\">\n",
       "      <th></th>\n",
       "      <th>Date</th>\n",
       "      <th>Active Users</th>\n",
       "      <th>Conversations</th>\n",
       "    </tr>\n",
       "  </thead>\n",
       "  <tbody>\n",
       "    <tr>\n",
       "      <th>0</th>\n",
       "      <td>8-Jul-19</td>\n",
       "      <td>2</td>\n",
       "      <td>8</td>\n",
       "    </tr>\n",
       "    <tr>\n",
       "      <th>0</th>\n",
       "      <td>12-Jul-19</td>\n",
       "      <td>6</td>\n",
       "      <td>6</td>\n",
       "    </tr>\n",
       "    <tr>\n",
       "      <th>1</th>\n",
       "      <td>9-Jul-19</td>\n",
       "      <td>40</td>\n",
       "      <td>42</td>\n",
       "    </tr>\n",
       "    <tr>\n",
       "      <th>1</th>\n",
       "      <td>13-Jul-19</td>\n",
       "      <td>26</td>\n",
       "      <td>26</td>\n",
       "    </tr>\n",
       "    <tr>\n",
       "      <th>2</th>\n",
       "      <td>10-Jul-19</td>\n",
       "      <td>119</td>\n",
       "      <td>133</td>\n",
       "    </tr>\n",
       "  </tbody>\n",
       "</table>\n",
       "</div>"
      ],
      "text/plain": [
       "        Date  Active Users  Conversations\n",
       "0   8-Jul-19             2              8\n",
       "0  12-Jul-19             6              6\n",
       "1   9-Jul-19            40             42\n",
       "1  13-Jul-19            26             26\n",
       "2  10-Jul-19           119            133"
      ]
     },
     "execution_count": 288,
     "metadata": {},
     "output_type": "execute_result"
    }
   ],
   "source": []
  },
  {
   "cell_type": "code",
   "execution_count": 197,
   "metadata": {},
   "outputs": [
    {
     "data": {
      "application/vnd.plotly.v1+json": {
       "config": {
        "plotlyServerURL": "https://plot.ly"
       },
       "data": [
        {
         "connectgaps": true,
         "name": "<b>Number of Active Users of Anansi Stories</b>",
         "type": "scatter",
         "uid": "8fb52c3e-be9e-41a8-b2b7-2b57ddea3604",
         "x": [
          "8-Jul-19",
          "12-Jul-19",
          "9-Jul-19",
          "13-Jul-19",
          "10-Jul-19",
          "14-Jul-19",
          "11-Jul-19",
          "15-Jul-19",
          "16-Jul-19",
          "17-Jul-19",
          "18-Jul-19",
          "19-Jul-19",
          "20-Jul-19",
          "21-Jul-19",
          "22-Jul-19",
          "23-Jul-19",
          "24-Jul-19",
          "25-Jul-19",
          "26-Jul-19",
          "27-Jul-19",
          "28-Jul-19",
          "29-Jul-19",
          "30-Jul-19",
          "31-Jul-19",
          "1-Aug-19",
          "2-Aug-19",
          "3-Aug-19",
          "4-Aug-19",
          "5-Aug-19",
          "6-Aug-19",
          "7-Aug-19",
          "8-Aug-19",
          "9-Aug-19"
         ],
         "y": [
          2,
          6,
          40,
          26,
          119,
          39,
          28,
          80,
          42,
          69,
          83,
          91,
          53,
          47,
          102,
          29,
          45,
          14,
          9,
          12,
          5,
          8,
          4,
          7,
          7,
          10,
          5,
          4,
          5,
          4,
          4,
          2,
          7
         ]
        },
        {
         "connectgaps": true,
         "name": "<b>Number of Conversations on Anansi Stories</b>",
         "type": "scatter",
         "uid": "504f280b-1ef1-4a3d-8608-6f14084e4482",
         "x": [
          "8-Jul-19",
          "12-Jul-19",
          "9-Jul-19",
          "13-Jul-19",
          "10-Jul-19",
          "14-Jul-19",
          "11-Jul-19",
          "15-Jul-19",
          "16-Jul-19",
          "17-Jul-19",
          "18-Jul-19",
          "19-Jul-19",
          "20-Jul-19",
          "21-Jul-19",
          "22-Jul-19",
          "23-Jul-19",
          "24-Jul-19",
          "25-Jul-19",
          "26-Jul-19",
          "27-Jul-19",
          "28-Jul-19",
          "29-Jul-19",
          "30-Jul-19",
          "31-Jul-19",
          "1-Aug-19",
          "2-Aug-19",
          "3-Aug-19",
          "4-Aug-19",
          "5-Aug-19",
          "6-Aug-19",
          "7-Aug-19",
          "8-Aug-19",
          "9-Aug-19"
         ],
         "y": [
          8,
          6,
          42,
          26,
          133,
          41,
          30,
          84,
          44,
          83,
          89,
          101,
          55,
          49,
          124,
          36,
          53,
          17,
          12,
          15,
          5,
          9,
          4,
          7,
          7,
          14,
          5,
          11,
          5,
          4,
          4,
          3,
          13
         ]
        }
       ],
       "layout": {
        "title": {
         "text": ""
        },
        "xaxis": {
         "title": {
          "text": "Day"
         }
        },
        "yaxis": {
         "title": {
          "text": "Number"
         }
        }
       }
      },
      "text/html": [
       "<div>\n",
       "        \n",
       "        \n",
       "            <div id=\"227ff37b-842b-4cb0-9c94-849528bac7a5\" class=\"plotly-graph-div\" style=\"height:525px; width:100%;\"></div>\n",
       "            <script type=\"text/javascript\">\n",
       "                require([\"plotly\"], function(Plotly) {\n",
       "                    window.PLOTLYENV=window.PLOTLYENV || {};\n",
       "                    window.PLOTLYENV.BASE_URL='https://plot.ly';\n",
       "                    \n",
       "                if (document.getElementById(\"227ff37b-842b-4cb0-9c94-849528bac7a5\")) {\n",
       "                    Plotly.newPlot(\n",
       "                        '227ff37b-842b-4cb0-9c94-849528bac7a5',\n",
       "                        [{\"connectgaps\": true, \"name\": \"<b>Number of Active Users of Anansi Stories</b>\", \"type\": \"scatter\", \"uid\": \"8fb52c3e-be9e-41a8-b2b7-2b57ddea3604\", \"x\": [\"8-Jul-19\", \"12-Jul-19\", \"9-Jul-19\", \"13-Jul-19\", \"10-Jul-19\", \"14-Jul-19\", \"11-Jul-19\", \"15-Jul-19\", \"16-Jul-19\", \"17-Jul-19\", \"18-Jul-19\", \"19-Jul-19\", \"20-Jul-19\", \"21-Jul-19\", \"22-Jul-19\", \"23-Jul-19\", \"24-Jul-19\", \"25-Jul-19\", \"26-Jul-19\", \"27-Jul-19\", \"28-Jul-19\", \"29-Jul-19\", \"30-Jul-19\", \"31-Jul-19\", \"1-Aug-19\", \"2-Aug-19\", \"3-Aug-19\", \"4-Aug-19\", \"5-Aug-19\", \"6-Aug-19\", \"7-Aug-19\", \"8-Aug-19\", \"9-Aug-19\"], \"y\": [2, 6, 40, 26, 119, 39, 28, 80, 42, 69, 83, 91, 53, 47, 102, 29, 45, 14, 9, 12, 5, 8, 4, 7, 7, 10, 5, 4, 5, 4, 4, 2, 7]}, {\"connectgaps\": true, \"name\": \"<b>Number of Conversations on Anansi Stories</b>\", \"type\": \"scatter\", \"uid\": \"504f280b-1ef1-4a3d-8608-6f14084e4482\", \"x\": [\"8-Jul-19\", \"12-Jul-19\", \"9-Jul-19\", \"13-Jul-19\", \"10-Jul-19\", \"14-Jul-19\", \"11-Jul-19\", \"15-Jul-19\", \"16-Jul-19\", \"17-Jul-19\", \"18-Jul-19\", \"19-Jul-19\", \"20-Jul-19\", \"21-Jul-19\", \"22-Jul-19\", \"23-Jul-19\", \"24-Jul-19\", \"25-Jul-19\", \"26-Jul-19\", \"27-Jul-19\", \"28-Jul-19\", \"29-Jul-19\", \"30-Jul-19\", \"31-Jul-19\", \"1-Aug-19\", \"2-Aug-19\", \"3-Aug-19\", \"4-Aug-19\", \"5-Aug-19\", \"6-Aug-19\", \"7-Aug-19\", \"8-Aug-19\", \"9-Aug-19\"], \"y\": [8, 6, 42, 26, 133, 41, 30, 84, 44, 83, 89, 101, 55, 49, 124, 36, 53, 17, 12, 15, 5, 9, 4, 7, 7, 14, 5, 11, 5, 4, 4, 3, 13]}],\n",
       "                        {\"title\": {\"text\": \"\"}, \"xaxis\": {\"title\": {\"text\": \"Day\"}}, \"yaxis\": {\"title\": {\"text\": \"Number\"}}},\n",
       "                        {\"plotlyServerURL\": \"https://plot.ly\", \"responsive\": true}\n",
       "                    ).then(function(){\n",
       "                            \n",
       "var gd = document.getElementById('227ff37b-842b-4cb0-9c94-849528bac7a5');\n",
       "var x = new MutationObserver(function (mutations, observer) {{\n",
       "        var display = window.getComputedStyle(gd).display;\n",
       "        if (!display || display === 'none') {{\n",
       "            console.log([gd, 'removed!']);\n",
       "            Plotly.purge(gd);\n",
       "            observer.disconnect();\n",
       "        }}\n",
       "}});\n",
       "\n",
       "// Listen for the removal of the full notebook cells\n",
       "var notebookContainer = gd.closest('#notebook-container');\n",
       "if (notebookContainer) {{\n",
       "    x.observe(notebookContainer, {childList: true});\n",
       "}}\n",
       "\n",
       "// Listen for the clearing of the current output cell\n",
       "var outputEl = gd.closest('.output');\n",
       "if (outputEl) {{\n",
       "    x.observe(outputEl, {childList: true});\n",
       "}}\n",
       "\n",
       "                        })\n",
       "                };\n",
       "                });\n",
       "            </script>\n",
       "        </div>"
      ]
     },
     "metadata": {},
     "output_type": "display_data"
    }
   ],
   "source": [
    "fig = go.Figure()\n",
    "\n",
    "fig.add_trace(go.Scatter(\n",
    "    x=finaldf['Date'],\n",
    "    y=finaldf['Active Users'],\n",
    "    name = '<b>Number of Active Users of Anansi Stories</b>', # Style name/legend entry with html tags\n",
    "    connectgaps=True # override default to connect the gaps\n",
    "))\n",
    "\n",
    "fig.add_trace(go.Scatter(\n",
    "    x=finaldf['Date'],\n",
    "    y=finaldf['Conversations'],\n",
    "    name = '<b>Number of Conversations on Anansi Stories</b>', # Style name/legend entry with html tags\n",
    "    connectgaps=True # override default to connect the gaps\n",
    "))\n",
    "\n",
    "fig.layout.update(title='',\n",
    "                   xaxis_title='Day',\n",
    "                   yaxis_title='Number')\n",
    "\n",
    "fig.show()"
   ]
  },
  {
   "cell_type": "code",
   "execution_count": 264,
   "metadata": {},
   "outputs": [
    {
     "data": {
      "application/vnd.plotly.v1+json": {
       "config": {
        "plotlyServerURL": "https://plot.ly"
       },
       "data": [
        {
         "fill": "tozeroy",
         "name": "<b>Number of Active Users of Anansi Stories</b>",
         "type": "scatter",
         "uid": "c75a98cc-0407-476b-8131-50d811df35f7",
         "x": [
          "8-Jul-19",
          "12-Jul-19",
          "9-Jul-19",
          "13-Jul-19",
          "10-Jul-19",
          "14-Jul-19",
          "11-Jul-19",
          "15-Jul-19",
          "16-Jul-19",
          "17-Jul-19",
          "18-Jul-19",
          "19-Jul-19",
          "20-Jul-19",
          "21-Jul-19",
          "22-Jul-19",
          "23-Jul-19",
          "24-Jul-19",
          "25-Jul-19",
          "26-Jul-19",
          "27-Jul-19",
          "28-Jul-19",
          "29-Jul-19",
          "30-Jul-19",
          "31-Jul-19",
          "1-Aug-19",
          "2-Aug-19",
          "3-Aug-19",
          "4-Aug-19",
          "5-Aug-19",
          "6-Aug-19",
          "7-Aug-19",
          "8-Aug-19",
          "9-Aug-19"
         ],
         "y": [
          8,
          6,
          42,
          26,
          133,
          41,
          30,
          84,
          44,
          83,
          89,
          101,
          55,
          49,
          124,
          36,
          53,
          17,
          12,
          15,
          5,
          9,
          4,
          7,
          7,
          14,
          5,
          11,
          5,
          4,
          4,
          3,
          13
         ]
        },
        {
         "fill": "tonexty",
         "name": "<b>Number of Conversations on Anansi Stories</b>",
         "type": "scatter",
         "uid": "1418a0d1-aabc-421f-96f8-9a353368da2a",
         "x": [
          "8-Jul-19",
          "12-Jul-19",
          "9-Jul-19",
          "13-Jul-19",
          "10-Jul-19",
          "14-Jul-19",
          "11-Jul-19",
          "15-Jul-19",
          "16-Jul-19",
          "17-Jul-19",
          "18-Jul-19",
          "19-Jul-19",
          "20-Jul-19",
          "21-Jul-19",
          "22-Jul-19",
          "23-Jul-19",
          "24-Jul-19",
          "25-Jul-19",
          "26-Jul-19",
          "27-Jul-19",
          "28-Jul-19",
          "29-Jul-19",
          "30-Jul-19",
          "31-Jul-19",
          "1-Aug-19",
          "2-Aug-19",
          "3-Aug-19",
          "4-Aug-19",
          "5-Aug-19",
          "6-Aug-19",
          "7-Aug-19",
          "8-Aug-19",
          "9-Aug-19"
         ],
         "y": [
          2,
          6,
          40,
          26,
          119,
          39,
          28,
          80,
          42,
          69,
          83,
          91,
          53,
          47,
          102,
          29,
          45,
          14,
          9,
          12,
          5,
          8,
          4,
          7,
          7,
          10,
          5,
          4,
          5,
          4,
          4,
          2,
          7
         ]
        }
       ],
       "layout": {}
      },
      "text/html": [
       "<div>\n",
       "        \n",
       "        \n",
       "            <div id=\"badbf5bf-a988-484e-9ae0-9365592f92b4\" class=\"plotly-graph-div\" style=\"height:525px; width:100%;\"></div>\n",
       "            <script type=\"text/javascript\">\n",
       "                require([\"plotly\"], function(Plotly) {\n",
       "                    window.PLOTLYENV=window.PLOTLYENV || {};\n",
       "                    window.PLOTLYENV.BASE_URL='https://plot.ly';\n",
       "                    \n",
       "                if (document.getElementById(\"badbf5bf-a988-484e-9ae0-9365592f92b4\")) {\n",
       "                    Plotly.newPlot(\n",
       "                        'badbf5bf-a988-484e-9ae0-9365592f92b4',\n",
       "                        [{\"fill\": \"tozeroy\", \"name\": \"<b>Number of Active Users of Anansi Stories</b>\", \"type\": \"scatter\", \"uid\": \"c75a98cc-0407-476b-8131-50d811df35f7\", \"x\": [\"8-Jul-19\", \"12-Jul-19\", \"9-Jul-19\", \"13-Jul-19\", \"10-Jul-19\", \"14-Jul-19\", \"11-Jul-19\", \"15-Jul-19\", \"16-Jul-19\", \"17-Jul-19\", \"18-Jul-19\", \"19-Jul-19\", \"20-Jul-19\", \"21-Jul-19\", \"22-Jul-19\", \"23-Jul-19\", \"24-Jul-19\", \"25-Jul-19\", \"26-Jul-19\", \"27-Jul-19\", \"28-Jul-19\", \"29-Jul-19\", \"30-Jul-19\", \"31-Jul-19\", \"1-Aug-19\", \"2-Aug-19\", \"3-Aug-19\", \"4-Aug-19\", \"5-Aug-19\", \"6-Aug-19\", \"7-Aug-19\", \"8-Aug-19\", \"9-Aug-19\"], \"y\": [8, 6, 42, 26, 133, 41, 30, 84, 44, 83, 89, 101, 55, 49, 124, 36, 53, 17, 12, 15, 5, 9, 4, 7, 7, 14, 5, 11, 5, 4, 4, 3, 13]}, {\"fill\": \"tonexty\", \"name\": \"<b>Number of Conversations on Anansi Stories</b>\", \"type\": \"scatter\", \"uid\": \"1418a0d1-aabc-421f-96f8-9a353368da2a\", \"x\": [\"8-Jul-19\", \"12-Jul-19\", \"9-Jul-19\", \"13-Jul-19\", \"10-Jul-19\", \"14-Jul-19\", \"11-Jul-19\", \"15-Jul-19\", \"16-Jul-19\", \"17-Jul-19\", \"18-Jul-19\", \"19-Jul-19\", \"20-Jul-19\", \"21-Jul-19\", \"22-Jul-19\", \"23-Jul-19\", \"24-Jul-19\", \"25-Jul-19\", \"26-Jul-19\", \"27-Jul-19\", \"28-Jul-19\", \"29-Jul-19\", \"30-Jul-19\", \"31-Jul-19\", \"1-Aug-19\", \"2-Aug-19\", \"3-Aug-19\", \"4-Aug-19\", \"5-Aug-19\", \"6-Aug-19\", \"7-Aug-19\", \"8-Aug-19\", \"9-Aug-19\"], \"y\": [2, 6, 40, 26, 119, 39, 28, 80, 42, 69, 83, 91, 53, 47, 102, 29, 45, 14, 9, 12, 5, 8, 4, 7, 7, 10, 5, 4, 5, 4, 4, 2, 7]}],\n",
       "                        {},\n",
       "                        {\"plotlyServerURL\": \"https://plot.ly\", \"responsive\": true}\n",
       "                    ).then(function(){\n",
       "                            \n",
       "var gd = document.getElementById('badbf5bf-a988-484e-9ae0-9365592f92b4');\n",
       "var x = new MutationObserver(function (mutations, observer) {{\n",
       "        var display = window.getComputedStyle(gd).display;\n",
       "        if (!display || display === 'none') {{\n",
       "            console.log([gd, 'removed!']);\n",
       "            Plotly.purge(gd);\n",
       "            observer.disconnect();\n",
       "        }}\n",
       "}});\n",
       "\n",
       "// Listen for the removal of the full notebook cells\n",
       "var notebookContainer = gd.closest('#notebook-container');\n",
       "if (notebookContainer) {{\n",
       "    x.observe(notebookContainer, {childList: true});\n",
       "}}\n",
       "\n",
       "// Listen for the clearing of the current output cell\n",
       "var outputEl = gd.closest('.output');\n",
       "if (outputEl) {{\n",
       "    x.observe(outputEl, {childList: true});\n",
       "}}\n",
       "\n",
       "                        })\n",
       "                };\n",
       "                });\n",
       "            </script>\n",
       "        </div>"
      ]
     },
     "metadata": {},
     "output_type": "display_data"
    }
   ],
   "source": [
    "\n",
    "fig = go.Figure()\n",
    "fig.add_trace(go.Scatter(x=finaldf['Date'],y=finaldf['Conversations'], fill='tozeroy', name = '<b>Number of Active Users of Anansi Stories</b>')) # fill down to xaxis\n",
    "fig.add_trace(go.Scatter(x=finaldf['Date'],y=finaldf['Active Users'], fill='tonexty', name = '<b>Number of Conversations on Anansi Stories</b>')) # fill to trace0 y\n",
    "\n",
    "fig.show()"
   ]
  },
  {
   "cell_type": "markdown",
   "metadata": {},
   "source": [
    "<br>\n",
    "<br>\n",
    "<br>\n",
    "<br>\n",
    "<br>\n",
    "<br>"
   ]
  },
  {
   "cell_type": "markdown",
   "metadata": {},
   "source": [
    "<ul><li><font size=\"+2\" style=\"color:Green;\">African Proverbs</font></li></ul>"
   ]
  },
  {
   "cell_type": "markdown",
   "metadata": {},
   "source": [
    "<img src=\"img/ap.jpg\" style=\"width:300px;height:400px;\" align=\"left\">"
   ]
  },
  {
   "cell_type": "markdown",
   "metadata": {},
   "source": [
    "<h1 style=\"color:Green;\">Conversations</h1>"
   ]
  },
  {
   "cell_type": "code",
   "execution_count": 231,
   "metadata": {},
   "outputs": [],
   "source": [
    "ap_convos = pd.read_csv('data/ap7.csv')"
   ]
  },
  {
   "cell_type": "code",
   "execution_count": 232,
   "metadata": {},
   "outputs": [
    {
     "data": {
      "text/html": [
       "<div>\n",
       "<style scoped>\n",
       "    .dataframe tbody tr th:only-of-type {\n",
       "        vertical-align: middle;\n",
       "    }\n",
       "\n",
       "    .dataframe tbody tr th {\n",
       "        vertical-align: top;\n",
       "    }\n",
       "\n",
       "    .dataframe thead th {\n",
       "        text-align: right;\n",
       "    }\n",
       "</style>\n",
       "<table border=\"1\" class=\"dataframe\">\n",
       "  <thead>\n",
       "    <tr style=\"text-align: right;\">\n",
       "      <th></th>\n",
       "      <th>Date1</th>\n",
       "      <th>Conversations</th>\n",
       "    </tr>\n",
       "  </thead>\n",
       "  <tbody>\n",
       "    <tr>\n",
       "      <th>0</th>\n",
       "      <td>11-Jul-19</td>\n",
       "      <td>3</td>\n",
       "    </tr>\n",
       "    <tr>\n",
       "      <th>1</th>\n",
       "      <td>13-Jul-19</td>\n",
       "      <td>2</td>\n",
       "    </tr>\n",
       "    <tr>\n",
       "      <th>2</th>\n",
       "      <td>15-Jul-19</td>\n",
       "      <td>18</td>\n",
       "    </tr>\n",
       "    <tr>\n",
       "      <th>3</th>\n",
       "      <td>16-Jul-19</td>\n",
       "      <td>7</td>\n",
       "    </tr>\n",
       "    <tr>\n",
       "      <th>4</th>\n",
       "      <td>17-Jul-19</td>\n",
       "      <td>11</td>\n",
       "    </tr>\n",
       "  </tbody>\n",
       "</table>\n",
       "</div>"
      ],
      "text/plain": [
       "       Date1  Conversations\n",
       "0  11-Jul-19              3\n",
       "1  13-Jul-19              2\n",
       "2  15-Jul-19             18\n",
       "3  16-Jul-19              7\n",
       "4  17-Jul-19             11"
      ]
     },
     "execution_count": 232,
     "metadata": {},
     "output_type": "execute_result"
    }
   ],
   "source": [
    "ap_convos.head()"
   ]
  },
  {
   "cell_type": "markdown",
   "metadata": {},
   "source": [
    "<h1 style=\"color:Green;\">Active Users</h1>"
   ]
  },
  {
   "cell_type": "code",
   "execution_count": 233,
   "metadata": {},
   "outputs": [],
   "source": [
    "ap_convos2 = pd.read_csv('data/ap8.csv')"
   ]
  },
  {
   "cell_type": "code",
   "execution_count": 234,
   "metadata": {},
   "outputs": [
    {
     "data": {
      "text/html": [
       "<div>\n",
       "<style scoped>\n",
       "    .dataframe tbody tr th:only-of-type {\n",
       "        vertical-align: middle;\n",
       "    }\n",
       "\n",
       "    .dataframe tbody tr th {\n",
       "        vertical-align: top;\n",
       "    }\n",
       "\n",
       "    .dataframe thead th {\n",
       "        text-align: right;\n",
       "    }\n",
       "</style>\n",
       "<table border=\"1\" class=\"dataframe\">\n",
       "  <thead>\n",
       "    <tr style=\"text-align: right;\">\n",
       "      <th></th>\n",
       "      <th>Date</th>\n",
       "      <th>Total</th>\n",
       "    </tr>\n",
       "  </thead>\n",
       "  <tbody>\n",
       "    <tr>\n",
       "      <th>0</th>\n",
       "      <td>11-Jul-19</td>\n",
       "      <td>3</td>\n",
       "    </tr>\n",
       "    <tr>\n",
       "      <th>1</th>\n",
       "      <td>12-Jul-19</td>\n",
       "      <td>0</td>\n",
       "    </tr>\n",
       "    <tr>\n",
       "      <th>2</th>\n",
       "      <td>13-Jul-19</td>\n",
       "      <td>2</td>\n",
       "    </tr>\n",
       "    <tr>\n",
       "      <th>3</th>\n",
       "      <td>14-Jul-19</td>\n",
       "      <td>0</td>\n",
       "    </tr>\n",
       "    <tr>\n",
       "      <th>4</th>\n",
       "      <td>15-Jul-19</td>\n",
       "      <td>6</td>\n",
       "    </tr>\n",
       "  </tbody>\n",
       "</table>\n",
       "</div>"
      ],
      "text/plain": [
       "        Date  Total\n",
       "0  11-Jul-19      3\n",
       "1  12-Jul-19      0\n",
       "2  13-Jul-19      2\n",
       "3  14-Jul-19      0\n",
       "4  15-Jul-19      6"
      ]
     },
     "execution_count": 234,
     "metadata": {},
     "output_type": "execute_result"
    }
   ],
   "source": [
    "ap_convos2.head()"
   ]
  },
  {
   "cell_type": "code",
   "execution_count": 282,
   "metadata": {},
   "outputs": [],
   "source": [
    "finaldf2 = pd.concat([ap_convos2, ap_convos], axis=1, join='inner').sort_index()"
   ]
  },
  {
   "cell_type": "code",
   "execution_count": 283,
   "metadata": {},
   "outputs": [],
   "source": [
    "del finaldf2['Date1']"
   ]
  },
  {
   "cell_type": "code",
   "execution_count": 284,
   "metadata": {},
   "outputs": [],
   "source": [
    "finaldf2.columns = ['Date', 'Active Users','Conversations']"
   ]
  },
  {
   "cell_type": "code",
   "execution_count": 285,
   "metadata": {},
   "outputs": [
    {
     "data": {
      "text/html": [
       "<div>\n",
       "<style scoped>\n",
       "    .dataframe tbody tr th:only-of-type {\n",
       "        vertical-align: middle;\n",
       "    }\n",
       "\n",
       "    .dataframe tbody tr th {\n",
       "        vertical-align: top;\n",
       "    }\n",
       "\n",
       "    .dataframe thead th {\n",
       "        text-align: right;\n",
       "    }\n",
       "</style>\n",
       "<table border=\"1\" class=\"dataframe\">\n",
       "  <thead>\n",
       "    <tr style=\"text-align: right;\">\n",
       "      <th></th>\n",
       "      <th>Date</th>\n",
       "      <th>Active Users</th>\n",
       "      <th>Conversations</th>\n",
       "    </tr>\n",
       "  </thead>\n",
       "  <tbody>\n",
       "    <tr>\n",
       "      <th>23</th>\n",
       "      <td>3-Aug-19</td>\n",
       "      <td>14</td>\n",
       "      <td>19</td>\n",
       "    </tr>\n",
       "    <tr>\n",
       "      <th>24</th>\n",
       "      <td>4-Aug-19</td>\n",
       "      <td>22</td>\n",
       "      <td>32</td>\n",
       "    </tr>\n",
       "    <tr>\n",
       "      <th>25</th>\n",
       "      <td>5-Aug-19</td>\n",
       "      <td>18</td>\n",
       "      <td>39</td>\n",
       "    </tr>\n",
       "    <tr>\n",
       "      <th>26</th>\n",
       "      <td>6-Aug-19</td>\n",
       "      <td>23</td>\n",
       "      <td>19</td>\n",
       "    </tr>\n",
       "    <tr>\n",
       "      <th>27</th>\n",
       "      <td>7-Aug-19</td>\n",
       "      <td>17</td>\n",
       "      <td>19</td>\n",
       "    </tr>\n",
       "  </tbody>\n",
       "</table>\n",
       "</div>"
      ],
      "text/plain": [
       "        Date  Active Users  Conversations\n",
       "23  3-Aug-19            14             19\n",
       "24  4-Aug-19            22             32\n",
       "25  5-Aug-19            18             39\n",
       "26  6-Aug-19            23             19\n",
       "27  7-Aug-19            17             19"
      ]
     },
     "execution_count": 285,
     "metadata": {},
     "output_type": "execute_result"
    }
   ],
   "source": [
    "finaldf2.tail()"
   ]
  },
  {
   "cell_type": "code",
   "execution_count": 263,
   "metadata": {},
   "outputs": [
    {
     "data": {
      "application/vnd.plotly.v1+json": {
       "config": {
        "plotlyServerURL": "https://plot.ly"
       },
       "data": [
        {
         "connectgaps": true,
         "line": {
          "color": "red"
         },
         "name": "<b>Number of Active Users of African Proverbs</b>",
         "type": "scatter",
         "uid": "244a990d-f7be-4c16-b9db-acb22941e2c7",
         "x": [
          "11-Jul-19",
          "12-Jul-19",
          "13-Jul-19",
          "14-Jul-19",
          "15-Jul-19",
          "16-Jul-19",
          "17-Jul-19",
          "18-Jul-19",
          "19-Jul-19",
          "20-Jul-19",
          "21-Jul-19",
          "22-Jul-19",
          "23-Jul-19",
          "24-Jul-19",
          "25-Jul-19",
          "26-Jul-19",
          "27-Jul-19",
          "28-Jul-19",
          "29-Jul-19",
          "30-Jul-19",
          "31-Jul-19",
          "1-Aug-19",
          "2-Aug-19",
          "3-Aug-19",
          "4-Aug-19",
          "5-Aug-19",
          "6-Aug-19",
          "7-Aug-19"
         ],
         "y": [
          3,
          0,
          2,
          0,
          6,
          6,
          5,
          4,
          1,
          2,
          1,
          4,
          2,
          3,
          3,
          3,
          28,
          10,
          16,
          19,
          16,
          23,
          24,
          14,
          22,
          18,
          23,
          17
         ]
        },
        {
         "connectgaps": true,
         "line": {
          "color": "green"
         },
         "name": "<b>Number of Conversations on African Proverbs</b>",
         "type": "scatter",
         "uid": "bc87555d-1d25-4775-af4d-df66968bc46e",
         "x": [
          "11-Jul-19",
          "12-Jul-19",
          "13-Jul-19",
          "14-Jul-19",
          "15-Jul-19",
          "16-Jul-19",
          "17-Jul-19",
          "18-Jul-19",
          "19-Jul-19",
          "20-Jul-19",
          "21-Jul-19",
          "22-Jul-19",
          "23-Jul-19",
          "24-Jul-19",
          "25-Jul-19",
          "26-Jul-19",
          "27-Jul-19",
          "28-Jul-19",
          "29-Jul-19",
          "30-Jul-19",
          "31-Jul-19",
          "1-Aug-19",
          "2-Aug-19",
          "3-Aug-19",
          "4-Aug-19",
          "5-Aug-19",
          "6-Aug-19",
          "7-Aug-19"
         ],
         "y": [
          3,
          2,
          18,
          7,
          11,
          5,
          1,
          2,
          2,
          13,
          2,
          3,
          4,
          9,
          29,
          11,
          20,
          21,
          19,
          24,
          30,
          15,
          38,
          19,
          32,
          39,
          19,
          19
         ]
        }
       ],
       "layout": {
        "title": {
         "text": ""
        },
        "xaxis": {
         "title": {
          "text": "Day"
         }
        },
        "yaxis": {
         "title": {
          "text": "Number"
         }
        }
       }
      },
      "text/html": [
       "<div>\n",
       "        \n",
       "        \n",
       "            <div id=\"17d97e72-abe6-458e-ad8f-f3cb61351c64\" class=\"plotly-graph-div\" style=\"height:525px; width:100%;\"></div>\n",
       "            <script type=\"text/javascript\">\n",
       "                require([\"plotly\"], function(Plotly) {\n",
       "                    window.PLOTLYENV=window.PLOTLYENV || {};\n",
       "                    window.PLOTLYENV.BASE_URL='https://plot.ly';\n",
       "                    \n",
       "                if (document.getElementById(\"17d97e72-abe6-458e-ad8f-f3cb61351c64\")) {\n",
       "                    Plotly.newPlot(\n",
       "                        '17d97e72-abe6-458e-ad8f-f3cb61351c64',\n",
       "                        [{\"connectgaps\": true, \"line\": {\"color\": \"red\"}, \"name\": \"<b>Number of Active Users of African Proverbs</b>\", \"type\": \"scatter\", \"uid\": \"244a990d-f7be-4c16-b9db-acb22941e2c7\", \"x\": [\"11-Jul-19\", \"12-Jul-19\", \"13-Jul-19\", \"14-Jul-19\", \"15-Jul-19\", \"16-Jul-19\", \"17-Jul-19\", \"18-Jul-19\", \"19-Jul-19\", \"20-Jul-19\", \"21-Jul-19\", \"22-Jul-19\", \"23-Jul-19\", \"24-Jul-19\", \"25-Jul-19\", \"26-Jul-19\", \"27-Jul-19\", \"28-Jul-19\", \"29-Jul-19\", \"30-Jul-19\", \"31-Jul-19\", \"1-Aug-19\", \"2-Aug-19\", \"3-Aug-19\", \"4-Aug-19\", \"5-Aug-19\", \"6-Aug-19\", \"7-Aug-19\"], \"y\": [3, 0, 2, 0, 6, 6, 5, 4, 1, 2, 1, 4, 2, 3, 3, 3, 28, 10, 16, 19, 16, 23, 24, 14, 22, 18, 23, 17]}, {\"connectgaps\": true, \"line\": {\"color\": \"green\"}, \"name\": \"<b>Number of Conversations on African Proverbs</b>\", \"type\": \"scatter\", \"uid\": \"bc87555d-1d25-4775-af4d-df66968bc46e\", \"x\": [\"11-Jul-19\", \"12-Jul-19\", \"13-Jul-19\", \"14-Jul-19\", \"15-Jul-19\", \"16-Jul-19\", \"17-Jul-19\", \"18-Jul-19\", \"19-Jul-19\", \"20-Jul-19\", \"21-Jul-19\", \"22-Jul-19\", \"23-Jul-19\", \"24-Jul-19\", \"25-Jul-19\", \"26-Jul-19\", \"27-Jul-19\", \"28-Jul-19\", \"29-Jul-19\", \"30-Jul-19\", \"31-Jul-19\", \"1-Aug-19\", \"2-Aug-19\", \"3-Aug-19\", \"4-Aug-19\", \"5-Aug-19\", \"6-Aug-19\", \"7-Aug-19\"], \"y\": [3, 2, 18, 7, 11, 5, 1, 2, 2, 13, 2, 3, 4, 9, 29, 11, 20, 21, 19, 24, 30, 15, 38, 19, 32, 39, 19, 19]}],\n",
       "                        {\"title\": {\"text\": \"\"}, \"xaxis\": {\"title\": {\"text\": \"Day\"}}, \"yaxis\": {\"title\": {\"text\": \"Number\"}}},\n",
       "                        {\"plotlyServerURL\": \"https://plot.ly\", \"responsive\": true}\n",
       "                    ).then(function(){\n",
       "                            \n",
       "var gd = document.getElementById('17d97e72-abe6-458e-ad8f-f3cb61351c64');\n",
       "var x = new MutationObserver(function (mutations, observer) {{\n",
       "        var display = window.getComputedStyle(gd).display;\n",
       "        if (!display || display === 'none') {{\n",
       "            console.log([gd, 'removed!']);\n",
       "            Plotly.purge(gd);\n",
       "            observer.disconnect();\n",
       "        }}\n",
       "}});\n",
       "\n",
       "// Listen for the removal of the full notebook cells\n",
       "var notebookContainer = gd.closest('#notebook-container');\n",
       "if (notebookContainer) {{\n",
       "    x.observe(notebookContainer, {childList: true});\n",
       "}}\n",
       "\n",
       "// Listen for the clearing of the current output cell\n",
       "var outputEl = gd.closest('.output');\n",
       "if (outputEl) {{\n",
       "    x.observe(outputEl, {childList: true});\n",
       "}}\n",
       "\n",
       "                        })\n",
       "                };\n",
       "                });\n",
       "            </script>\n",
       "        </div>"
      ]
     },
     "metadata": {},
     "output_type": "display_data"
    }
   ],
   "source": [
    "fig = go.Figure()\n",
    "\n",
    "fig.add_trace(go.Scatter(\n",
    "    x=finaldf2['Date'],\n",
    "    y=finaldf2['Active Users'],\n",
    "    line_color='red',\n",
    "    name = '<b>Number of Active Users of African Proverbs</b>', # Style name/legend entry with html tags\n",
    "    connectgaps=True # override default to connect the gaps\n",
    "    \n",
    "))\n",
    "\n",
    "fig.add_trace(go.Scatter(\n",
    "    x=finaldf2['Date'],\n",
    "    y=finaldf2['Conversations'],\n",
    "    line_color='green',\n",
    "    name = '<b>Number of Conversations on African Proverbs</b>', # Style name/legend entry with html tags\n",
    "    connectgaps=True # override default to connect the gaps\n",
    "))\n",
    "\n",
    "fig.layout.update(title='',\n",
    "                   xaxis_title='Day',\n",
    "                   yaxis_title='Number')\n",
    "\n",
    "fig.show()"
   ]
  },
  {
   "cell_type": "code",
   "execution_count": 262,
   "metadata": {},
   "outputs": [
    {
     "data": {
      "application/vnd.plotly.v1+json": {
       "config": {
        "plotlyServerURL": "https://plot.ly"
       },
       "data": [
        {
         "fill": "tozeroy",
         "line": {
          "color": "red"
         },
         "name": "<b>Number of Active Users of African Proverbs</b>",
         "type": "scatter",
         "uid": "90127d10-e415-41fd-bcd4-8b88a2698de9",
         "x": [
          "11-Jul-19",
          "12-Jul-19",
          "13-Jul-19",
          "14-Jul-19",
          "15-Jul-19",
          "16-Jul-19",
          "17-Jul-19",
          "18-Jul-19",
          "19-Jul-19",
          "20-Jul-19",
          "21-Jul-19",
          "22-Jul-19",
          "23-Jul-19",
          "24-Jul-19",
          "25-Jul-19",
          "26-Jul-19",
          "27-Jul-19",
          "28-Jul-19",
          "29-Jul-19",
          "30-Jul-19",
          "31-Jul-19",
          "1-Aug-19",
          "2-Aug-19",
          "3-Aug-19",
          "4-Aug-19",
          "5-Aug-19",
          "6-Aug-19",
          "7-Aug-19"
         ],
         "y": [
          3,
          2,
          18,
          7,
          11,
          5,
          1,
          2,
          2,
          13,
          2,
          3,
          4,
          9,
          29,
          11,
          20,
          21,
          19,
          24,
          30,
          15,
          38,
          19,
          32,
          39,
          19,
          19
         ]
        },
        {
         "fill": "tonexty",
         "line": {
          "color": "green"
         },
         "name": "<b>Number of Conversations on African Proverbs</b>",
         "type": "scatter",
         "uid": "c941179d-05ab-4aa7-b788-4774a15151b4",
         "x": [
          "11-Jul-19",
          "12-Jul-19",
          "13-Jul-19",
          "14-Jul-19",
          "15-Jul-19",
          "16-Jul-19",
          "17-Jul-19",
          "18-Jul-19",
          "19-Jul-19",
          "20-Jul-19",
          "21-Jul-19",
          "22-Jul-19",
          "23-Jul-19",
          "24-Jul-19",
          "25-Jul-19",
          "26-Jul-19",
          "27-Jul-19",
          "28-Jul-19",
          "29-Jul-19",
          "30-Jul-19",
          "31-Jul-19",
          "1-Aug-19",
          "2-Aug-19",
          "3-Aug-19",
          "4-Aug-19",
          "5-Aug-19",
          "6-Aug-19",
          "7-Aug-19"
         ],
         "y": [
          3,
          0,
          2,
          0,
          6,
          6,
          5,
          4,
          1,
          2,
          1,
          4,
          2,
          3,
          3,
          3,
          28,
          10,
          16,
          19,
          16,
          23,
          24,
          14,
          22,
          18,
          23,
          17
         ]
        }
       ],
       "layout": {}
      },
      "text/html": [
       "<div>\n",
       "        \n",
       "        \n",
       "            <div id=\"61802d9a-4708-4719-8ad4-623a6a9c3680\" class=\"plotly-graph-div\" style=\"height:525px; width:100%;\"></div>\n",
       "            <script type=\"text/javascript\">\n",
       "                require([\"plotly\"], function(Plotly) {\n",
       "                    window.PLOTLYENV=window.PLOTLYENV || {};\n",
       "                    window.PLOTLYENV.BASE_URL='https://plot.ly';\n",
       "                    \n",
       "                if (document.getElementById(\"61802d9a-4708-4719-8ad4-623a6a9c3680\")) {\n",
       "                    Plotly.newPlot(\n",
       "                        '61802d9a-4708-4719-8ad4-623a6a9c3680',\n",
       "                        [{\"fill\": \"tozeroy\", \"line\": {\"color\": \"red\"}, \"name\": \"<b>Number of Active Users of African Proverbs</b>\", \"type\": \"scatter\", \"uid\": \"90127d10-e415-41fd-bcd4-8b88a2698de9\", \"x\": [\"11-Jul-19\", \"12-Jul-19\", \"13-Jul-19\", \"14-Jul-19\", \"15-Jul-19\", \"16-Jul-19\", \"17-Jul-19\", \"18-Jul-19\", \"19-Jul-19\", \"20-Jul-19\", \"21-Jul-19\", \"22-Jul-19\", \"23-Jul-19\", \"24-Jul-19\", \"25-Jul-19\", \"26-Jul-19\", \"27-Jul-19\", \"28-Jul-19\", \"29-Jul-19\", \"30-Jul-19\", \"31-Jul-19\", \"1-Aug-19\", \"2-Aug-19\", \"3-Aug-19\", \"4-Aug-19\", \"5-Aug-19\", \"6-Aug-19\", \"7-Aug-19\"], \"y\": [3, 2, 18, 7, 11, 5, 1, 2, 2, 13, 2, 3, 4, 9, 29, 11, 20, 21, 19, 24, 30, 15, 38, 19, 32, 39, 19, 19]}, {\"fill\": \"tonexty\", \"line\": {\"color\": \"green\"}, \"name\": \"<b>Number of Conversations on African Proverbs</b>\", \"type\": \"scatter\", \"uid\": \"c941179d-05ab-4aa7-b788-4774a15151b4\", \"x\": [\"11-Jul-19\", \"12-Jul-19\", \"13-Jul-19\", \"14-Jul-19\", \"15-Jul-19\", \"16-Jul-19\", \"17-Jul-19\", \"18-Jul-19\", \"19-Jul-19\", \"20-Jul-19\", \"21-Jul-19\", \"22-Jul-19\", \"23-Jul-19\", \"24-Jul-19\", \"25-Jul-19\", \"26-Jul-19\", \"27-Jul-19\", \"28-Jul-19\", \"29-Jul-19\", \"30-Jul-19\", \"31-Jul-19\", \"1-Aug-19\", \"2-Aug-19\", \"3-Aug-19\", \"4-Aug-19\", \"5-Aug-19\", \"6-Aug-19\", \"7-Aug-19\"], \"y\": [3, 0, 2, 0, 6, 6, 5, 4, 1, 2, 1, 4, 2, 3, 3, 3, 28, 10, 16, 19, 16, 23, 24, 14, 22, 18, 23, 17]}],\n",
       "                        {},\n",
       "                        {\"plotlyServerURL\": \"https://plot.ly\", \"responsive\": true}\n",
       "                    ).then(function(){\n",
       "                            \n",
       "var gd = document.getElementById('61802d9a-4708-4719-8ad4-623a6a9c3680');\n",
       "var x = new MutationObserver(function (mutations, observer) {{\n",
       "        var display = window.getComputedStyle(gd).display;\n",
       "        if (!display || display === 'none') {{\n",
       "            console.log([gd, 'removed!']);\n",
       "            Plotly.purge(gd);\n",
       "            observer.disconnect();\n",
       "        }}\n",
       "}});\n",
       "\n",
       "// Listen for the removal of the full notebook cells\n",
       "var notebookContainer = gd.closest('#notebook-container');\n",
       "if (notebookContainer) {{\n",
       "    x.observe(notebookContainer, {childList: true});\n",
       "}}\n",
       "\n",
       "// Listen for the clearing of the current output cell\n",
       "var outputEl = gd.closest('.output');\n",
       "if (outputEl) {{\n",
       "    x.observe(outputEl, {childList: true});\n",
       "}}\n",
       "\n",
       "                        })\n",
       "                };\n",
       "                });\n",
       "            </script>\n",
       "        </div>"
      ]
     },
     "metadata": {},
     "output_type": "display_data"
    }
   ],
   "source": [
    "\n",
    "fig = go.Figure()\n",
    "fig.add_trace(go.Scatter(x=finaldf2['Date'],y=finaldf2['Conversations'], fill='tozeroy',line_color='red', name = '<b>Number of Active Users of African Proverbs</b>')) # fill down to xaxis\n",
    "fig.add_trace(go.Scatter(x=finaldf2['Date'],y=finaldf2['Active Users'], fill='tonexty',line_color='green',name = '<b>Number of Conversations on African Proverbs</b>')) # fill to trace0 y\n",
    "\n",
    "fig.show()"
   ]
  },
  {
   "cell_type": "markdown",
   "metadata": {},
   "source": [
    "<br>\n",
    "<br>\n",
    "<br>\n",
    "<br>\n",
    "\n",
    "# Data Analysis"
   ]
  },
  {
   "cell_type": "code",
   "execution_count": 266,
   "metadata": {},
   "outputs": [
    {
     "data": {
      "text/plain": [
       "sum     275.000000\n",
       "min       0.000000\n",
       "max      28.000000\n",
       "mean      9.821429\n",
       "std       8.948634\n",
       "Name: Active Users, dtype: float64"
      ]
     },
     "execution_count": 266,
     "metadata": {},
     "output_type": "execute_result"
    }
   ],
   "source": [
    "finaldf2['Active Users'].agg(['sum', 'min', 'max',\"mean\", 'std'])"
   ]
  },
  {
   "cell_type": "code",
   "execution_count": 267,
   "metadata": {},
   "outputs": [
    {
     "data": {
      "text/plain": [
       "sum     417.000000\n",
       "min       1.000000\n",
       "max      39.000000\n",
       "mean     14.892857\n",
       "std      11.461172\n",
       "Name: Conversations, dtype: float64"
      ]
     },
     "execution_count": 267,
     "metadata": {},
     "output_type": "execute_result"
    }
   ],
   "source": [
    "finaldf2['Conversations'].agg(['sum', 'min', 'max',\"mean\", 'std'])"
   ]
  },
  {
   "cell_type": "code",
   "execution_count": 287,
   "metadata": {},
   "outputs": [],
   "source": [
    "finaldf2.columns = ['Date', 'African Proverb Active Users', 'African Proverbs Conversations']"
   ]
  },
  {
   "cell_type": "markdown",
   "metadata": {},
   "source": [
    "<br>\n",
    "<br>\n",
    "<br>\n",
    "<br>\n",
    "\n",
    "### The Number of Active Users in One Month (from July 8th to August 9th): \n"
   ]
  },
  {
   "cell_type": "markdown",
   "metadata": {},
   "source": [
    "<font size=\"+3\"style=\"color:Red;\"><center>275</center></font>"
   ]
  },
  {
   "cell_type": "markdown",
   "metadata": {},
   "source": [
    "### The Minimum Number of Daily Active Users (from July 8th to August 9th): \n"
   ]
  },
  {
   "cell_type": "markdown",
   "metadata": {},
   "source": [
    "<font size=\"+3\"style=\"color:Red;\"><center>0</center></font>"
   ]
  },
  {
   "cell_type": "markdown",
   "metadata": {},
   "source": [
    "\n",
    "### The Maximum Number of Daily Active Users (from July 8th to August 9th): \n",
    "\n"
   ]
  },
  {
   "cell_type": "markdown",
   "metadata": {},
   "source": [
    "<font size=\"+3\"style=\"color:Red;\"><center>28</center></font>"
   ]
  },
  {
   "cell_type": "markdown",
   "metadata": {},
   "source": [
    "\n",
    "### The Average Number of Daily Active Users (from July 8th to August 9th): \n",
    "\n"
   ]
  },
  {
   "cell_type": "markdown",
   "metadata": {},
   "source": [
    "<font size=\"+3\"style=\"color:Red;\"><center>9</center></font>"
   ]
  },
  {
   "cell_type": "markdown",
   "metadata": {},
   "source": [
    "\n",
    "### The Standard Deviation of the Number of Daily Active Users (from July 8th to August 9th): \n",
    "\n"
   ]
  },
  {
   "cell_type": "markdown",
   "metadata": {},
   "source": [
    "<font size=\"+3\"style=\"color:Red;\"><center>8</center></font>"
   ]
  },
  {
   "cell_type": "markdown",
   "metadata": {},
   "source": [
    "<br>\n",
    "<br>\n",
    "<br>\n",
    "<br>\n",
    "<br>"
   ]
  },
  {
   "cell_type": "markdown",
   "metadata": {},
   "source": [
    "### The Total Number of Conversations in One Month : \n"
   ]
  },
  {
   "cell_type": "markdown",
   "metadata": {},
   "source": [
    "<font size=\"+3\"style=\"color:Red;\"><center>417</center></font>"
   ]
  },
  {
   "cell_type": "markdown",
   "metadata": {},
   "source": [
    "### The Minimum Number of Daily Conversations: \n"
   ]
  },
  {
   "cell_type": "markdown",
   "metadata": {},
   "source": [
    "<font size=\"+3\"style=\"color:Red;\"><center>1</center></font>"
   ]
  },
  {
   "cell_type": "markdown",
   "metadata": {},
   "source": [
    "### The Maximum Number of Daily Conversations: \n"
   ]
  },
  {
   "cell_type": "markdown",
   "metadata": {},
   "source": [
    "<font size=\"+3\"style=\"color:Red;\"><center>39</center></font>"
   ]
  },
  {
   "cell_type": "markdown",
   "metadata": {},
   "source": [
    "\n",
    "### The Average Number of Daily Conversations: \n",
    "\n"
   ]
  },
  {
   "cell_type": "markdown",
   "metadata": {},
   "source": [
    "<font size=\"+3\"style=\"color:Red;\"><center>14</center></font>"
   ]
  },
  {
   "cell_type": "markdown",
   "metadata": {},
   "source": [
    "### The Standard Deviation of the Number of Daily Conversations: \n"
   ]
  },
  {
   "cell_type": "markdown",
   "metadata": {},
   "source": [
    "<font size=\"+3\"style=\"color:Red;\"><center>11</center></font>"
   ]
  },
  {
   "cell_type": "markdown",
   "metadata": {},
   "source": [
    "<br>\n",
    "<br>\n",
    "<br>\n",
    "<br>\n",
    "<br>\n",
    "<br>\n",
    "<br>\n",
    "<br>"
   ]
  },
  {
   "cell_type": "code",
   "execution_count": 290,
   "metadata": {},
   "outputs": [],
   "source": [
    "merged = finaldf.merge(finaldf2, on='Date')"
   ]
  },
  {
   "cell_type": "code",
   "execution_count": 291,
   "metadata": {},
   "outputs": [
    {
     "data": {
      "text/html": [
       "<div>\n",
       "<style scoped>\n",
       "    .dataframe tbody tr th:only-of-type {\n",
       "        vertical-align: middle;\n",
       "    }\n",
       "\n",
       "    .dataframe tbody tr th {\n",
       "        vertical-align: top;\n",
       "    }\n",
       "\n",
       "    .dataframe thead th {\n",
       "        text-align: right;\n",
       "    }\n",
       "</style>\n",
       "<table border=\"1\" class=\"dataframe\">\n",
       "  <thead>\n",
       "    <tr style=\"text-align: right;\">\n",
       "      <th></th>\n",
       "      <th>Date</th>\n",
       "      <th>Anansi Stories Active Users</th>\n",
       "      <th>Anansi Stories Conversations</th>\n",
       "      <th>African Proverb Active Users</th>\n",
       "      <th>African Proverbs Conversations</th>\n",
       "    </tr>\n",
       "  </thead>\n",
       "  <tbody>\n",
       "    <tr>\n",
       "      <th>0</th>\n",
       "      <td>12-Jul-19</td>\n",
       "      <td>6</td>\n",
       "      <td>6</td>\n",
       "      <td>0</td>\n",
       "      <td>2</td>\n",
       "    </tr>\n",
       "    <tr>\n",
       "      <th>1</th>\n",
       "      <td>13-Jul-19</td>\n",
       "      <td>26</td>\n",
       "      <td>26</td>\n",
       "      <td>2</td>\n",
       "      <td>18</td>\n",
       "    </tr>\n",
       "    <tr>\n",
       "      <th>2</th>\n",
       "      <td>14-Jul-19</td>\n",
       "      <td>39</td>\n",
       "      <td>41</td>\n",
       "      <td>0</td>\n",
       "      <td>7</td>\n",
       "    </tr>\n",
       "    <tr>\n",
       "      <th>3</th>\n",
       "      <td>11-Jul-19</td>\n",
       "      <td>28</td>\n",
       "      <td>30</td>\n",
       "      <td>3</td>\n",
       "      <td>3</td>\n",
       "    </tr>\n",
       "    <tr>\n",
       "      <th>4</th>\n",
       "      <td>15-Jul-19</td>\n",
       "      <td>80</td>\n",
       "      <td>84</td>\n",
       "      <td>6</td>\n",
       "      <td>11</td>\n",
       "    </tr>\n",
       "    <tr>\n",
       "      <th>5</th>\n",
       "      <td>16-Jul-19</td>\n",
       "      <td>42</td>\n",
       "      <td>44</td>\n",
       "      <td>6</td>\n",
       "      <td>5</td>\n",
       "    </tr>\n",
       "    <tr>\n",
       "      <th>6</th>\n",
       "      <td>17-Jul-19</td>\n",
       "      <td>69</td>\n",
       "      <td>83</td>\n",
       "      <td>5</td>\n",
       "      <td>1</td>\n",
       "    </tr>\n",
       "    <tr>\n",
       "      <th>7</th>\n",
       "      <td>18-Jul-19</td>\n",
       "      <td>83</td>\n",
       "      <td>89</td>\n",
       "      <td>4</td>\n",
       "      <td>2</td>\n",
       "    </tr>\n",
       "    <tr>\n",
       "      <th>8</th>\n",
       "      <td>19-Jul-19</td>\n",
       "      <td>91</td>\n",
       "      <td>101</td>\n",
       "      <td>1</td>\n",
       "      <td>2</td>\n",
       "    </tr>\n",
       "    <tr>\n",
       "      <th>9</th>\n",
       "      <td>20-Jul-19</td>\n",
       "      <td>53</td>\n",
       "      <td>55</td>\n",
       "      <td>2</td>\n",
       "      <td>13</td>\n",
       "    </tr>\n",
       "    <tr>\n",
       "      <th>10</th>\n",
       "      <td>21-Jul-19</td>\n",
       "      <td>47</td>\n",
       "      <td>49</td>\n",
       "      <td>1</td>\n",
       "      <td>2</td>\n",
       "    </tr>\n",
       "    <tr>\n",
       "      <th>11</th>\n",
       "      <td>22-Jul-19</td>\n",
       "      <td>102</td>\n",
       "      <td>124</td>\n",
       "      <td>4</td>\n",
       "      <td>3</td>\n",
       "    </tr>\n",
       "    <tr>\n",
       "      <th>12</th>\n",
       "      <td>23-Jul-19</td>\n",
       "      <td>29</td>\n",
       "      <td>36</td>\n",
       "      <td>2</td>\n",
       "      <td>4</td>\n",
       "    </tr>\n",
       "    <tr>\n",
       "      <th>13</th>\n",
       "      <td>24-Jul-19</td>\n",
       "      <td>45</td>\n",
       "      <td>53</td>\n",
       "      <td>3</td>\n",
       "      <td>9</td>\n",
       "    </tr>\n",
       "    <tr>\n",
       "      <th>14</th>\n",
       "      <td>25-Jul-19</td>\n",
       "      <td>14</td>\n",
       "      <td>17</td>\n",
       "      <td>3</td>\n",
       "      <td>29</td>\n",
       "    </tr>\n",
       "    <tr>\n",
       "      <th>15</th>\n",
       "      <td>26-Jul-19</td>\n",
       "      <td>9</td>\n",
       "      <td>12</td>\n",
       "      <td>3</td>\n",
       "      <td>11</td>\n",
       "    </tr>\n",
       "    <tr>\n",
       "      <th>16</th>\n",
       "      <td>27-Jul-19</td>\n",
       "      <td>12</td>\n",
       "      <td>15</td>\n",
       "      <td>28</td>\n",
       "      <td>20</td>\n",
       "    </tr>\n",
       "    <tr>\n",
       "      <th>17</th>\n",
       "      <td>28-Jul-19</td>\n",
       "      <td>5</td>\n",
       "      <td>5</td>\n",
       "      <td>10</td>\n",
       "      <td>21</td>\n",
       "    </tr>\n",
       "    <tr>\n",
       "      <th>18</th>\n",
       "      <td>29-Jul-19</td>\n",
       "      <td>8</td>\n",
       "      <td>9</td>\n",
       "      <td>16</td>\n",
       "      <td>19</td>\n",
       "    </tr>\n",
       "    <tr>\n",
       "      <th>19</th>\n",
       "      <td>30-Jul-19</td>\n",
       "      <td>4</td>\n",
       "      <td>4</td>\n",
       "      <td>19</td>\n",
       "      <td>24</td>\n",
       "    </tr>\n",
       "    <tr>\n",
       "      <th>20</th>\n",
       "      <td>31-Jul-19</td>\n",
       "      <td>7</td>\n",
       "      <td>7</td>\n",
       "      <td>16</td>\n",
       "      <td>30</td>\n",
       "    </tr>\n",
       "    <tr>\n",
       "      <th>21</th>\n",
       "      <td>1-Aug-19</td>\n",
       "      <td>7</td>\n",
       "      <td>7</td>\n",
       "      <td>23</td>\n",
       "      <td>15</td>\n",
       "    </tr>\n",
       "    <tr>\n",
       "      <th>22</th>\n",
       "      <td>2-Aug-19</td>\n",
       "      <td>10</td>\n",
       "      <td>14</td>\n",
       "      <td>24</td>\n",
       "      <td>38</td>\n",
       "    </tr>\n",
       "    <tr>\n",
       "      <th>23</th>\n",
       "      <td>3-Aug-19</td>\n",
       "      <td>5</td>\n",
       "      <td>5</td>\n",
       "      <td>14</td>\n",
       "      <td>19</td>\n",
       "    </tr>\n",
       "    <tr>\n",
       "      <th>24</th>\n",
       "      <td>4-Aug-19</td>\n",
       "      <td>4</td>\n",
       "      <td>11</td>\n",
       "      <td>22</td>\n",
       "      <td>32</td>\n",
       "    </tr>\n",
       "    <tr>\n",
       "      <th>25</th>\n",
       "      <td>5-Aug-19</td>\n",
       "      <td>5</td>\n",
       "      <td>5</td>\n",
       "      <td>18</td>\n",
       "      <td>39</td>\n",
       "    </tr>\n",
       "    <tr>\n",
       "      <th>26</th>\n",
       "      <td>6-Aug-19</td>\n",
       "      <td>4</td>\n",
       "      <td>4</td>\n",
       "      <td>23</td>\n",
       "      <td>19</td>\n",
       "    </tr>\n",
       "    <tr>\n",
       "      <th>27</th>\n",
       "      <td>7-Aug-19</td>\n",
       "      <td>4</td>\n",
       "      <td>4</td>\n",
       "      <td>17</td>\n",
       "      <td>19</td>\n",
       "    </tr>\n",
       "  </tbody>\n",
       "</table>\n",
       "</div>"
      ],
      "text/plain": [
       "         Date  Anansi Stories Active Users  Anansi Stories Conversations  \\\n",
       "0   12-Jul-19                            6                             6   \n",
       "1   13-Jul-19                           26                            26   \n",
       "2   14-Jul-19                           39                            41   \n",
       "3   11-Jul-19                           28                            30   \n",
       "4   15-Jul-19                           80                            84   \n",
       "5   16-Jul-19                           42                            44   \n",
       "6   17-Jul-19                           69                            83   \n",
       "7   18-Jul-19                           83                            89   \n",
       "8   19-Jul-19                           91                           101   \n",
       "9   20-Jul-19                           53                            55   \n",
       "10  21-Jul-19                           47                            49   \n",
       "11  22-Jul-19                          102                           124   \n",
       "12  23-Jul-19                           29                            36   \n",
       "13  24-Jul-19                           45                            53   \n",
       "14  25-Jul-19                           14                            17   \n",
       "15  26-Jul-19                            9                            12   \n",
       "16  27-Jul-19                           12                            15   \n",
       "17  28-Jul-19                            5                             5   \n",
       "18  29-Jul-19                            8                             9   \n",
       "19  30-Jul-19                            4                             4   \n",
       "20  31-Jul-19                            7                             7   \n",
       "21   1-Aug-19                            7                             7   \n",
       "22   2-Aug-19                           10                            14   \n",
       "23   3-Aug-19                            5                             5   \n",
       "24   4-Aug-19                            4                            11   \n",
       "25   5-Aug-19                            5                             5   \n",
       "26   6-Aug-19                            4                             4   \n",
       "27   7-Aug-19                            4                             4   \n",
       "\n",
       "    African Proverb Active Users  African Proverbs Conversations  \n",
       "0                              0                               2  \n",
       "1                              2                              18  \n",
       "2                              0                               7  \n",
       "3                              3                               3  \n",
       "4                              6                              11  \n",
       "5                              6                               5  \n",
       "6                              5                               1  \n",
       "7                              4                               2  \n",
       "8                              1                               2  \n",
       "9                              2                              13  \n",
       "10                             1                               2  \n",
       "11                             4                               3  \n",
       "12                             2                               4  \n",
       "13                             3                               9  \n",
       "14                             3                              29  \n",
       "15                             3                              11  \n",
       "16                            28                              20  \n",
       "17                            10                              21  \n",
       "18                            16                              19  \n",
       "19                            19                              24  \n",
       "20                            16                              30  \n",
       "21                            23                              15  \n",
       "22                            24                              38  \n",
       "23                            14                              19  \n",
       "24                            22                              32  \n",
       "25                            18                              39  \n",
       "26                            23                              19  \n",
       "27                            17                              19  "
      ]
     },
     "execution_count": 291,
     "metadata": {},
     "output_type": "execute_result"
    }
   ],
   "source": [
    "merged"
   ]
  },
  {
   "cell_type": "code",
   "execution_count": 297,
   "metadata": {},
   "outputs": [
    {
     "data": {
      "application/vnd.plotly.v1+json": {
       "config": {
        "plotlyServerURL": "https://plot.ly"
       },
       "data": [
        {
         "mode": "lines+markers",
         "name": "Anansi Stories Active Users",
         "type": "scatter",
         "uid": "8cfa1edd-6f54-4fbd-a478-937b9f3801ad",
         "x": [
          "12-Jul-19",
          "13-Jul-19",
          "14-Jul-19",
          "11-Jul-19",
          "15-Jul-19",
          "16-Jul-19",
          "17-Jul-19",
          "18-Jul-19",
          "19-Jul-19",
          "20-Jul-19",
          "21-Jul-19",
          "22-Jul-19",
          "23-Jul-19",
          "24-Jul-19",
          "25-Jul-19",
          "26-Jul-19",
          "27-Jul-19",
          "28-Jul-19",
          "29-Jul-19",
          "30-Jul-19",
          "31-Jul-19",
          "1-Aug-19",
          "2-Aug-19",
          "3-Aug-19",
          "4-Aug-19",
          "5-Aug-19",
          "6-Aug-19",
          "7-Aug-19"
         ],
         "y": [
          6,
          26,
          39,
          28,
          80,
          42,
          69,
          83,
          91,
          53,
          47,
          102,
          29,
          45,
          14,
          9,
          12,
          5,
          8,
          4,
          7,
          7,
          10,
          5,
          4,
          5,
          4,
          4
         ]
        },
        {
         "mode": "lines+markers",
         "name": "Anansi Stories Conversations",
         "type": "scatter",
         "uid": "074718ef-b430-4630-8358-736d1db3e0a8",
         "x": [
          "12-Jul-19",
          "13-Jul-19",
          "14-Jul-19",
          "11-Jul-19",
          "15-Jul-19",
          "16-Jul-19",
          "17-Jul-19",
          "18-Jul-19",
          "19-Jul-19",
          "20-Jul-19",
          "21-Jul-19",
          "22-Jul-19",
          "23-Jul-19",
          "24-Jul-19",
          "25-Jul-19",
          "26-Jul-19",
          "27-Jul-19",
          "28-Jul-19",
          "29-Jul-19",
          "30-Jul-19",
          "31-Jul-19",
          "1-Aug-19",
          "2-Aug-19",
          "3-Aug-19",
          "4-Aug-19",
          "5-Aug-19",
          "6-Aug-19",
          "7-Aug-19"
         ],
         "y": [
          6,
          26,
          41,
          30,
          84,
          44,
          83,
          89,
          101,
          55,
          49,
          124,
          36,
          53,
          17,
          12,
          15,
          5,
          9,
          4,
          7,
          7,
          14,
          5,
          11,
          5,
          4,
          4
         ]
        },
        {
         "mode": "lines+markers",
         "name": "African Proverb Active Users",
         "type": "scatter",
         "uid": "d5d88d4c-b376-4bbc-8de4-6163cc24f61a",
         "x": [
          "12-Jul-19",
          "13-Jul-19",
          "14-Jul-19",
          "11-Jul-19",
          "15-Jul-19",
          "16-Jul-19",
          "17-Jul-19",
          "18-Jul-19",
          "19-Jul-19",
          "20-Jul-19",
          "21-Jul-19",
          "22-Jul-19",
          "23-Jul-19",
          "24-Jul-19",
          "25-Jul-19",
          "26-Jul-19",
          "27-Jul-19",
          "28-Jul-19",
          "29-Jul-19",
          "30-Jul-19",
          "31-Jul-19",
          "1-Aug-19",
          "2-Aug-19",
          "3-Aug-19",
          "4-Aug-19",
          "5-Aug-19",
          "6-Aug-19",
          "7-Aug-19"
         ],
         "y": [
          0,
          2,
          0,
          3,
          6,
          6,
          5,
          4,
          1,
          2,
          1,
          4,
          2,
          3,
          3,
          3,
          28,
          10,
          16,
          19,
          16,
          23,
          24,
          14,
          22,
          18,
          23,
          17
         ]
        },
        {
         "mode": "lines+markers",
         "name": "African Proverbs Conversations",
         "type": "scatter",
         "uid": "7cfabce2-4977-4534-ada9-fb585a3712e7",
         "x": [
          "12-Jul-19",
          "13-Jul-19",
          "14-Jul-19",
          "11-Jul-19",
          "15-Jul-19",
          "16-Jul-19",
          "17-Jul-19",
          "18-Jul-19",
          "19-Jul-19",
          "20-Jul-19",
          "21-Jul-19",
          "22-Jul-19",
          "23-Jul-19",
          "24-Jul-19",
          "25-Jul-19",
          "26-Jul-19",
          "27-Jul-19",
          "28-Jul-19",
          "29-Jul-19",
          "30-Jul-19",
          "31-Jul-19",
          "1-Aug-19",
          "2-Aug-19",
          "3-Aug-19",
          "4-Aug-19",
          "5-Aug-19",
          "6-Aug-19",
          "7-Aug-19"
         ],
         "y": [
          2,
          18,
          7,
          3,
          11,
          5,
          1,
          2,
          2,
          13,
          2,
          3,
          4,
          9,
          29,
          11,
          20,
          21,
          19,
          24,
          30,
          15,
          38,
          19,
          32,
          39,
          19,
          19
         ]
        }
       ],
       "layout": {}
      },
      "text/html": [
       "<div>\n",
       "        \n",
       "        \n",
       "            <div id=\"5e303286-da12-4e2b-8433-6b0539883d9b\" class=\"plotly-graph-div\" style=\"height:525px; width:100%;\"></div>\n",
       "            <script type=\"text/javascript\">\n",
       "                require([\"plotly\"], function(Plotly) {\n",
       "                    window.PLOTLYENV=window.PLOTLYENV || {};\n",
       "                    window.PLOTLYENV.BASE_URL='https://plot.ly';\n",
       "                    \n",
       "                if (document.getElementById(\"5e303286-da12-4e2b-8433-6b0539883d9b\")) {\n",
       "                    Plotly.newPlot(\n",
       "                        '5e303286-da12-4e2b-8433-6b0539883d9b',\n",
       "                        [{\"mode\": \"lines+markers\", \"name\": \"Anansi Stories Active Users\", \"type\": \"scatter\", \"uid\": \"8cfa1edd-6f54-4fbd-a478-937b9f3801ad\", \"x\": [\"12-Jul-19\", \"13-Jul-19\", \"14-Jul-19\", \"11-Jul-19\", \"15-Jul-19\", \"16-Jul-19\", \"17-Jul-19\", \"18-Jul-19\", \"19-Jul-19\", \"20-Jul-19\", \"21-Jul-19\", \"22-Jul-19\", \"23-Jul-19\", \"24-Jul-19\", \"25-Jul-19\", \"26-Jul-19\", \"27-Jul-19\", \"28-Jul-19\", \"29-Jul-19\", \"30-Jul-19\", \"31-Jul-19\", \"1-Aug-19\", \"2-Aug-19\", \"3-Aug-19\", \"4-Aug-19\", \"5-Aug-19\", \"6-Aug-19\", \"7-Aug-19\"], \"y\": [6, 26, 39, 28, 80, 42, 69, 83, 91, 53, 47, 102, 29, 45, 14, 9, 12, 5, 8, 4, 7, 7, 10, 5, 4, 5, 4, 4]}, {\"mode\": \"lines+markers\", \"name\": \"Anansi Stories Conversations\", \"type\": \"scatter\", \"uid\": \"074718ef-b430-4630-8358-736d1db3e0a8\", \"x\": [\"12-Jul-19\", \"13-Jul-19\", \"14-Jul-19\", \"11-Jul-19\", \"15-Jul-19\", \"16-Jul-19\", \"17-Jul-19\", \"18-Jul-19\", \"19-Jul-19\", \"20-Jul-19\", \"21-Jul-19\", \"22-Jul-19\", \"23-Jul-19\", \"24-Jul-19\", \"25-Jul-19\", \"26-Jul-19\", \"27-Jul-19\", \"28-Jul-19\", \"29-Jul-19\", \"30-Jul-19\", \"31-Jul-19\", \"1-Aug-19\", \"2-Aug-19\", \"3-Aug-19\", \"4-Aug-19\", \"5-Aug-19\", \"6-Aug-19\", \"7-Aug-19\"], \"y\": [6, 26, 41, 30, 84, 44, 83, 89, 101, 55, 49, 124, 36, 53, 17, 12, 15, 5, 9, 4, 7, 7, 14, 5, 11, 5, 4, 4]}, {\"mode\": \"lines+markers\", \"name\": \"African Proverb Active Users\", \"type\": \"scatter\", \"uid\": \"d5d88d4c-b376-4bbc-8de4-6163cc24f61a\", \"x\": [\"12-Jul-19\", \"13-Jul-19\", \"14-Jul-19\", \"11-Jul-19\", \"15-Jul-19\", \"16-Jul-19\", \"17-Jul-19\", \"18-Jul-19\", \"19-Jul-19\", \"20-Jul-19\", \"21-Jul-19\", \"22-Jul-19\", \"23-Jul-19\", \"24-Jul-19\", \"25-Jul-19\", \"26-Jul-19\", \"27-Jul-19\", \"28-Jul-19\", \"29-Jul-19\", \"30-Jul-19\", \"31-Jul-19\", \"1-Aug-19\", \"2-Aug-19\", \"3-Aug-19\", \"4-Aug-19\", \"5-Aug-19\", \"6-Aug-19\", \"7-Aug-19\"], \"y\": [0, 2, 0, 3, 6, 6, 5, 4, 1, 2, 1, 4, 2, 3, 3, 3, 28, 10, 16, 19, 16, 23, 24, 14, 22, 18, 23, 17]}, {\"mode\": \"lines+markers\", \"name\": \"African Proverbs Conversations\", \"type\": \"scatter\", \"uid\": \"7cfabce2-4977-4534-ada9-fb585a3712e7\", \"x\": [\"12-Jul-19\", \"13-Jul-19\", \"14-Jul-19\", \"11-Jul-19\", \"15-Jul-19\", \"16-Jul-19\", \"17-Jul-19\", \"18-Jul-19\", \"19-Jul-19\", \"20-Jul-19\", \"21-Jul-19\", \"22-Jul-19\", \"23-Jul-19\", \"24-Jul-19\", \"25-Jul-19\", \"26-Jul-19\", \"27-Jul-19\", \"28-Jul-19\", \"29-Jul-19\", \"30-Jul-19\", \"31-Jul-19\", \"1-Aug-19\", \"2-Aug-19\", \"3-Aug-19\", \"4-Aug-19\", \"5-Aug-19\", \"6-Aug-19\", \"7-Aug-19\"], \"y\": [2, 18, 7, 3, 11, 5, 1, 2, 2, 13, 2, 3, 4, 9, 29, 11, 20, 21, 19, 24, 30, 15, 38, 19, 32, 39, 19, 19]}],\n",
       "                        {},\n",
       "                        {\"plotlyServerURL\": \"https://plot.ly\", \"responsive\": true}\n",
       "                    ).then(function(){\n",
       "                            \n",
       "var gd = document.getElementById('5e303286-da12-4e2b-8433-6b0539883d9b');\n",
       "var x = new MutationObserver(function (mutations, observer) {{\n",
       "        var display = window.getComputedStyle(gd).display;\n",
       "        if (!display || display === 'none') {{\n",
       "            console.log([gd, 'removed!']);\n",
       "            Plotly.purge(gd);\n",
       "            observer.disconnect();\n",
       "        }}\n",
       "}});\n",
       "\n",
       "// Listen for the removal of the full notebook cells\n",
       "var notebookContainer = gd.closest('#notebook-container');\n",
       "if (notebookContainer) {{\n",
       "    x.observe(notebookContainer, {childList: true});\n",
       "}}\n",
       "\n",
       "// Listen for the clearing of the current output cell\n",
       "var outputEl = gd.closest('.output');\n",
       "if (outputEl) {{\n",
       "    x.observe(outputEl, {childList: true});\n",
       "}}\n",
       "\n",
       "                        })\n",
       "                };\n",
       "                });\n",
       "            </script>\n",
       "        </div>"
      ]
     },
     "metadata": {},
     "output_type": "display_data"
    }
   ],
   "source": [
    "fig = go.Figure()\n",
    "\n",
    "# Add traces\n",
    "fig.add_trace(go.Scatter(x=merged['Date'], y=merged['Anansi Stories Active Users'],\n",
    "                    mode='lines+markers',\n",
    "                    name='Anansi Stories Active Users'))\n",
    "fig.add_trace(go.Scatter(x=merged['Date'], y=merged['Anansi Stories Conversations'],\n",
    "                    mode='lines+markers',\n",
    "                    name='Anansi Stories Conversations'))\n",
    "fig.add_trace(go.Scatter(x=merged['Date'], y=merged['African Proverb Active Users'],\n",
    "                    mode='lines+markers',\n",
    "                    name='African Proverb Active Users'))\n",
    "\n",
    "fig.add_trace(go.Scatter(x=merged['Date'], y=merged['African Proverbs Conversations'],\n",
    "                    mode='lines+markers',\n",
    "                    name='African Proverbs Conversations'))\n",
    "\n",
    "fig.show()"
   ]
  },
  {
   "cell_type": "markdown",
   "metadata": {},
   "source": [
    "<br>\n",
    "<br>\n",
    "<br>\n",
    "<br>\n",
    "<br>\n",
    "<br>"
   ]
  },
  {
   "cell_type": "code",
   "execution_count": null,
   "metadata": {},
   "outputs": [],
   "source": []
  }
 ],
 "metadata": {
  "kernelspec": {
   "display_name": "Python 3",
   "language": "python",
   "name": "python3"
  },
  "language_info": {
   "codemirror_mode": {
    "name": "ipython",
    "version": 3
   },
   "file_extension": ".py",
   "mimetype": "text/x-python",
   "name": "python",
   "nbconvert_exporter": "python",
   "pygments_lexer": "ipython3",
   "version": "3.5.4"
  }
 },
 "nbformat": 4,
 "nbformat_minor": 2
}
